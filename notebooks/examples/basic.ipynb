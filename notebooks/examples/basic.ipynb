{
 "cells": [
  {
   "cell_type": "code",
   "execution_count": 1,
   "id": "0d87c389-d114-4b18-a500-8bfd9ec22535",
   "metadata": {},
   "outputs": [
    {
     "name": "stderr",
     "output_type": "stream",
     "text": [
      "/home/nikita.kulin/CoolPrompt/.venv/lib/python3.12/site-packages/tqdm/auto.py:21: TqdmWarning: IProgress not found. Please update jupyter and ipywidgets. See https://ipywidgets.readthedocs.io/en/stable/user_install.html\n",
      "  from .autonotebook import tqdm as notebook_tqdm\n"
     ]
    }
   ],
   "source": [
    "# import sys\n",
    "# import os\n",
    "# project_root = os.path.abspath(os.path.join(os.getcwd(), \"../../\"))\n",
    "# sys.path.append(project_root)\n",
    "\n",
    "from coolprompt.assistant import PromptTuner"
   ]
  },
  {
   "cell_type": "markdown",
   "id": "a0a12ce0-63ac-48d3-8b6c-307862598f75",
   "metadata": {},
   "source": [
    "# Basic tutorial of CoolPrompt\n",
    "*Actual for 1.1.0+ version*"
   ]
  },
  {
   "cell_type": "markdown",
   "id": "d6a0929c-beb9-48be-9d39-387801bcf0df",
   "metadata": {},
   "source": [
    "## Quick Run"
   ]
  },
  {
   "cell_type": "code",
   "execution_count": null,
   "id": "9089fb7f-a327-4c3f-87a5-0cccc5396586",
   "metadata": {},
   "outputs": [],
   "source": [
    "from coolprompt.assistant import PromptTuner\n",
    "\n",
    "tuner = PromptTuner()\n",
    "\n",
    "tuner.run('Write an essay about autumn')"
   ]
  },
  {
   "cell_type": "code",
   "execution_count": 4,
   "id": "93d489c9-65a1-47d1-bb71-d6a03bf614ef",
   "metadata": {},
   "outputs": [
    {
     "name": "stdout",
     "output_type": "stream",
     "text": [
      "\n",
      "You are an expert writer and seasonal observer tasked with composing a rich, well-structured, and vividly descriptive essay on the theme of autumn. Your goal is to create a coherent, engaging, and insightful piece that captures the essence of the season through sensory detail, natural observation, and cultural reflection.\n",
      "\n",
      "Begin by describing the key physical and environmental characteristics of autumn: the transformation of foliage, the gradual cooling of temperatures, the crispness of the air, and the quiet rhythm of nature as leaves fall. Use specific, evocative language to convey sight, sound, smell, and touch—such as the rustle of dry leaves, the golden light filtering through trees, or the earthy scent of damp soil after rain.\n",
      "\n",
      "Integrate cultural and human elements of autumn, including harvest festivals (e.g., Thanksgiving, Halloween, harvest fairs), traditional foods (e.g., apples, pumpkins, squash), and seasonal rituals that reflect humanity’s connection to nature. Reflect on the emotional tone of autumn—its melancholy, nostalgia, abundance, and transition—offering thoughtful insights into how people perceive and respond to the season’s changes.\n",
      "\n",
      "Structure your essay with a clear narrative arc: open with a vivid scene or sensory moment, develop through observations and reflections, and conclude with a broader philosophical or emotional takeaway about the value of seasonal change, impermanence, and balance in life.\n",
      "\n",
      "Write in clear, natural prose that is accessible and immersive. Avoid generic statements; instead, ground your writing in specific details and personal or universal reflections. Ensure the essay is comprehensive, thoughtful, and inspiring—offering readers not just a description of autumn, but a deeper appreciation for its beauty and significance in both the natural world and human experience.\n",
      "\n",
      "Maintain a consistent tone that is reflective yet lively, poetic yet grounded. Do not include any code, technical jargon, or irrelevant content.\n",
      "\n"
     ]
    }
   ],
   "source": [
    "print(tuner.final_prompt)"
   ]
  },
  {
   "cell_type": "markdown",
   "id": "5854dd0b-0e49-46f9-b881-367e446afa05",
   "metadata": {},
   "source": [
    "### What happened step-by-step\n",
    "1. We initialized a CoolPrompt Tuner with default large language model: qwen3-4B-instruct\n",
    "2. We input a start prompt that should be modified\n",
    "3. CoolPrompt auto-detected preferred task and metric for prompt optimization and evaluation\n",
    "4. CoolPrompt PromptAssistant generated automatically the dataset with target labels and split into train and test samples\n",
    "5. The default prompt optimizer HyPE suggested the optimized prompt\n",
    "6. CoolPrompt outputs the results:\n",
    "   - Metric scores of optimization efficiency\n",
    "   - The final prompt\n",
    "   - The interpretation of prompt optimization"
   ]
  },
  {
   "cell_type": "markdown",
   "id": "42992843-51c8-4d39-9b3b-98935d6764e8",
   "metadata": {},
   "source": [
    "### That is a simple approach how to optimize prompts. Let's try to configure CoolPrompt Tuner"
   ]
  },
  {
   "cell_type": "markdown",
   "id": "54fe16ef-f038-44f8-a080-a07816042060",
   "metadata": {},
   "source": [
    "## Setup a CoolPrompt Tuner"
   ]
  },
  {
   "cell_type": "markdown",
   "id": "17ec42bb-400c-4705-922c-661e67761f36",
   "metadata": {},
   "source": [
    "### 1. LLM Choice\n",
    "The framework is a model-agnostic, you can use proprietary, open-source or custom LLMs with different interfaces via LangChain compatibility. \n",
    "\n",
    "#### Check [the full list of provider interfaces](https://python.langchain.com/docs/integrations/llms/).\n",
    "\n",
    "Default LLM in CoolPrompt is Qwen/Qwen3-4B-Instruct-2507 and it a same can be defined as:\n",
    "\n",
    "```python\n",
    "llm = HuggingFacePipeline.from_model_id(\n",
    "    model_id=\"Qwen/Qwen3-4B-Instruct-2507\",\n",
    "    task=\"text-generation\",\n",
    "    pipeline_kwargs={\n",
    "        \"max_new_tokens\": 4000,\n",
    "        \"temperature\": 0.01,\n",
    "        \"do_sample\": False,\n",
    "        \"return_full_text\": False,\n",
    "    }\n",
    ")\n",
    "target_model = ChatHuggingFace(llm=llm)\n",
    "\n",
    "prompt_tuner = PromptTuner(target_model=target_model)\n",
    "```\n",
    "\n",
    "\n",
    "You can use other popular interfaces as:"
   ]
  },
  {
   "cell_type": "markdown",
   "id": "ed22194f-1ae6-4ebd-8df5-5adc9419fb8d",
   "metadata": {},
   "source": [
    "#### Ollama\n",
    "For rapid experiments with low resources"
   ]
  },
  {
   "cell_type": "code",
   "execution_count": null,
   "id": "6b5481eb-d2f8-46fb-97e9-a857443f5fe1",
   "metadata": {},
   "outputs": [],
   "source": [
    "from langchain_ollama.llms import OllamaLLM\n",
    "\n",
    "my_model = OllamaLLM(\n",
    "    model=\"qwen2.5-coder:32b\"\n",
    ")\n",
    "prompt_tuner = PromptTuner(target_model=my_model)"
   ]
  },
  {
   "cell_type": "markdown",
   "id": "288eb4dc-5335-4d36-a36d-c5353ad59093",
   "metadata": {},
   "source": [
    "#### VLLM\n",
    "As a production ready solution"
   ]
  },
  {
   "cell_type": "code",
   "execution_count": null,
   "id": "c7c87892-bdfc-472c-82b3-d850036187d5",
   "metadata": {},
   "outputs": [],
   "source": [
    "from langchain_community.llms import VLLM\n",
    "\n",
    "my_model = VLLM(\n",
    "    model=\"Qwen/Qwen3-4B-Instruct-2507\",\n",
    "    trust_remote_code=True,\n",
    "    dtype='bfloat16',\n",
    ")\n",
    "\n",
    "prompt_tuner = PromptTuner(target_model=my_model)"
   ]
  },
  {
   "cell_type": "markdown",
   "id": "ad91b7b6-227f-43b6-b390-16954fc0b729",
   "metadata": {},
   "source": [
    "#### ChatOpenAI\n",
    "For OpenAI and OpenAI compatible models"
   ]
  },
  {
   "cell_type": "code",
   "execution_count": null,
   "id": "da88cbcf-e003-4f0c-ac15-6f52fb5e8af5",
   "metadata": {},
   "outputs": [],
   "source": [
    "from langchain_openai.chat_models import ChatOpenAI\n",
    "\n",
    "my_model = ChatOpenAI(\n",
    "    model=\"paste model_name\",\n",
    "    base_url=\"paste base_url\",\n",
    "    openai_api_key=\"paste api_key\",\n",
    "    temperature=0.01,\n",
    "    max_tokens=4000,\n",
    ")\n",
    "\n",
    "prompt_tuner = PromptTuner(target_model=my_model)"
   ]
  },
  {
   "cell_type": "markdown",
   "id": "a1419b38-296b-4a62-b943-5034bb5c22e6",
   "metadata": {},
   "source": [
    "### 2. System Model\n",
    "Argument `system_model` defines a core in a **PromptAssistant** module.\n",
    "\n",
    "**PromptAssistant** is responsible for:\n",
    "- Definition automatically a task type and a metric for the specific start prompt.\n",
    "- Generates a syntetic dataset and target labels (when the real data is not provided).\n",
    "- Provides an optimization feedback.\n",
    "\n",
    "By default a `system_model` is a defined the same as a `target_model`. It could be set with a different llm in code below:"
   ]
  },
  {
   "cell_type": "code",
   "execution_count": null,
   "id": "63f20e3e-45a6-4943-896b-52ca891bcc9f",
   "metadata": {},
   "outputs": [],
   "source": [
    "from langchain_community.llms import VLLM\n",
    "\n",
    "target_model = VLLM(\n",
    "    model=\"Qwen/Qwen3-4B-Instruct-2507\"\n",
    ")\n",
    "system_model = VLLM(\n",
    "    model=\"Qwen/Qwen3-30B-A3B-Instruct-2507\"\n",
    ")\n",
    "\n",
    "prompt_tuner = PromptTuner(\n",
    "    target_model=target_model,\n",
    "    system_model=system_model\n",
    ")"
   ]
  },
  {
   "cell_type": "markdown",
   "id": "55e308fa-c9fd-46b3-bfd2-8d2db922a86b",
   "metadata": {},
   "source": [
    "#### IMPORTANT NOTE: `system_model` needs to be a confident instructional llm that can generate a structual output."
   ]
  },
  {
   "cell_type": "markdown",
   "id": "8445763b-db76-445f-99b5-48c7fe558455",
   "metadata": {},
   "source": [
    "### 3. Task and metrics\n",
    "CoolPrompt supports 2 task types and a set of metrics: \n",
    "- `classification` - a common classification\n",
    "    - `accuracy`\n",
    "    - `f1` (f1-macro)\n",
    "- `generation` - a general new text generation\n",
    "    - `bleu`\n",
    "    - `rouge`\n",
    "    - `meteor`\n",
    "    - `bertscore`\n",
    "    - `geval` (one metric: *textual accuracy*)\n",
    "\n",
    "For each run you can define as follows:"
   ]
  },
  {
   "cell_type": "code",
   "execution_count": null,
   "id": "a3efad17-c57a-4fd9-b5c4-bb8911b47898",
   "metadata": {},
   "outputs": [],
   "source": [
    "prompt_tuner.run(\n",
    "    start_prompt=\"Classify a sentence sentiment\",\n",
    "    task=\"classification\",\n",
    "    metric=\"f1\",\n",
    ")\n",
    "\n",
    "prompt_tuner.run(\n",
    "    start_prompt=\"Summarize the text\",\n",
    "    task=\"generation\",\n",
    "    metric=\"rouge\",\n",
    ")"
   ]
  },
  {
   "cell_type": "markdown",
   "id": "4b7c49d5-5dcb-4c3e-93ec-228672efea11",
   "metadata": {},
   "source": [
    "### 4. Setup a dataset configuration"
   ]
  },
  {
   "cell_type": "markdown",
   "id": "b61b86bf",
   "metadata": {},
   "source": [
    "#### 4.1 Input a real dataset"
   ]
  },
  {
   "cell_type": "code",
   "execution_count": null,
   "id": "6df954db-0077-499a-a6c4-4e937aa26de1",
   "metadata": {},
   "outputs": [],
   "source": [
    "from datasets import load_dataset\n",
    "\n",
    "sst2 = load_dataset(\"stanfordnlp/sst2\")\n",
    "class_dataset = sst2['train']['sentence'][:100]\n",
    "class_targets = sst2['train']['label'][:100]\n",
    "\n",
    "tuner.run(\n",
    "    start_prompt=\"Classify sentence sentiment\",\n",
    "    task=\"classification\",\n",
    "    dataset=class_dataset,\n",
    "    target=class_targets,\n",
    "    metric=\"f1\"\n",
    ")"
   ]
  },
  {
   "cell_type": "code",
   "execution_count": null,
   "id": "623382a1-f3e7-4b2f-90aa-e5f15c44b7c8",
   "metadata": {},
   "outputs": [],
   "source": [
    "samsum = load_dataset(\"knkarthick/samsum\")\n",
    "gen_dataset = samsum['train']['dialogue'][:100]\n",
    "gen_targets = samsum['train']['summary'][:100]\n",
    "\n",
    "tuner.run(\n",
    "    start_prompt=\"Summarize the text\",\n",
    "    task=\"generation\",\n",
    "    dataset=gen_dataset,\n",
    "    target=gen_targets,\n",
    "    metric=\"bertscore\"\n",
    ")"
   ]
  },
  {
   "cell_type": "markdown",
   "id": "afaa6afc",
   "metadata": {},
   "source": [
    "#### 4.2 Define a split strategy"
   ]
  },
  {
   "cell_type": "markdown",
   "id": "39f6dd49",
   "metadata": {},
   "source": [
    "`validation_size` - a ratio for train-valid split"
   ]
  },
  {
   "cell_type": "code",
   "execution_count": null,
   "id": "567fe92a",
   "metadata": {},
   "outputs": [],
   "source": [
    "tuner.run(\n",
    "    start_prompt=\"Summarize the text\",\n",
    "    task=\"generation\",\n",
    "    dataset=gen_dataset,\n",
    "    target=gen_targets,\n",
    "    metric=\"bertscore\",\n",
    "    validation_size=0.4\n",
    ")"
   ]
  },
  {
   "cell_type": "markdown",
   "id": "8df29c42",
   "metadata": {},
   "source": [
    "`train_as_test` - assign a test set as a train, `validation_size` will be ignored"
   ]
  },
  {
   "cell_type": "code",
   "execution_count": null,
   "id": "692913ac",
   "metadata": {},
   "outputs": [],
   "source": [
    "tuner.run(\n",
    "    start_prompt=\"Summarize the text\",\n",
    "    task=\"generation\",\n",
    "    dataset=gen_dataset,\n",
    "    target=gen_targets,\n",
    "    metric=\"bertscore\",\n",
    "    train_as_test=True\n",
    ")"
   ]
  },
  {
   "cell_type": "code",
   "execution_count": null,
   "id": "c2d5f720",
   "metadata": {},
   "outputs": [],
   "source": []
  },
  {
   "cell_type": "markdown",
   "id": "d3abca5d",
   "metadata": {},
   "source": [
    "### 5. Choosing an optimizer"
   ]
  },
  {
   "cell_type": "markdown",
   "id": "a2c2b461",
   "metadata": {},
   "source": []
  },
  {
   "cell_type": "markdown",
   "id": "fdb9544c",
   "metadata": {},
   "source": [
    "#### HyPE"
   ]
  },
  {
   "cell_type": "code",
   "execution_count": null,
   "id": "56451584",
   "metadata": {},
   "outputs": [],
   "source": [
    "tuner.run(\n",
    "    start_prompt=\"Summarize the text\",\n",
    "    method='hype'\n",
    ")"
   ]
  },
  {
   "cell_type": "markdown",
   "id": "c4aee2da",
   "metadata": {},
   "source": [
    "#### ReflectivePrompt"
   ]
  },
  {
   "cell_type": "code",
   "execution_count": null,
   "id": "0b8b3773",
   "metadata": {},
   "outputs": [],
   "source": [
    "tuner.run(\n",
    "    start_prompt=\"Summarize the text\",\n",
    "    method='reflective'\n",
    ")"
   ]
  },
  {
   "cell_type": "markdown",
   "id": "7d16a66d",
   "metadata": {},
   "source": [
    "#### DistillPrompt"
   ]
  },
  {
   "cell_type": "code",
   "execution_count": null,
   "id": "62b5f504",
   "metadata": {},
   "outputs": [],
   "source": [
    "tuner.run(\n",
    "    start_prompt=\"Summarize the text\",\n",
    "    method='distill'\n",
    ")"
   ]
  },
  {
   "cell_type": "code",
   "execution_count": null,
   "id": "eed121ec-45cb-4645-b3d5-df859db9f9dd",
   "metadata": {},
   "outputs": [],
   "source": []
  },
  {
   "cell_type": "markdown",
   "id": "8f2197bc",
   "metadata": {},
   "source": [
    "## Framework Results"
   ]
  },
  {
   "cell_type": "markdown",
   "id": "3f964fdb",
   "metadata": {},
   "source": [
    "#### Metrics before-after"
   ]
  },
  {
   "cell_type": "code",
   "execution_count": null,
   "id": "3637e46c",
   "metadata": {},
   "outputs": [
    {
     "name": "stdout",
     "output_type": "stream",
     "text": [
      "Before optimization: 0.3997358145852188\n",
      "After optimization: 0.3607928178068911\n"
     ]
    }
   ],
   "source": [
    "print('Before optimization:', tuner.init_metric)\n",
    "print('After optimization:', tuner.final_metric)"
   ]
  },
  {
   "cell_type": "markdown",
   "id": "542aab1d",
   "metadata": {},
   "source": [
    "#### Prompts before-after"
   ]
  },
  {
   "cell_type": "code",
   "execution_count": null,
   "id": "9572715c",
   "metadata": {},
   "outputs": [
    {
     "name": "stdout",
     "output_type": "stream",
     "text": [
      "Before optimization: Write an essay about autumn\n",
      "After optimization: \n",
      "You are an expert writer and seasonal observer tasked with composing a rich, well-structured, and vividly descriptive essay on the theme of autumn. Your goal is to create a coherent, engaging, and insightful piece that captures the essence of the season through sensory detail, natural observation, and cultural reflection.\n",
      "\n",
      "Begin by describing the key physical and environmental characteristics of autumn: the transformation of foliage, the gradual cooling of temperatures, the crispness of the air, and the quiet rhythm of nature as leaves fall. Use specific, evocative language to convey sight, sound, smell, and touch—such as the rustle of dry leaves, the golden light filtering through trees, or the earthy scent of damp soil after rain.\n",
      "\n",
      "Integrate cultural and human elements of autumn, including harvest festivals (e.g., Thanksgiving, Halloween, harvest fairs), traditional foods (e.g., apples, pumpkins, squash), and seasonal rituals that reflect humanity’s connection to nature. Reflect on the emotional tone of autumn—its melancholy, nostalgia, abundance, and transition—offering thoughtful insights into how people perceive and respond to the season’s changes.\n",
      "\n",
      "Structure your essay with a clear narrative arc: open with a vivid scene or sensory moment, develop through observations and reflections, and conclude with a broader philosophical or emotional takeaway about the value of seasonal change, impermanence, and balance in life.\n",
      "\n",
      "Write in clear, natural prose that is accessible and immersive. Avoid generic statements; instead, ground your writing in specific details and personal or universal reflections. Ensure the essay is comprehensive, thoughtful, and inspiring—offering readers not just a description of autumn, but a deeper appreciation for its beauty and significance in both the natural world and human experience.\n",
      "\n",
      "Maintain a consistent tone that is reflective yet lively, poetic yet grounded. Do not include any code, technical jargon, or irrelevant content.\n",
      "\n"
     ]
    }
   ],
   "source": [
    "print('Before optimization:', tuner.init_prompt)\n",
    "print('After optimization:', tuner.final_prompt)"
   ]
  },
  {
   "cell_type": "markdown",
   "id": "e4767aff",
   "metadata": {},
   "source": [
    "#### Generated dataset"
   ]
  },
  {
   "cell_type": "code",
   "execution_count": null,
   "id": "49d7d065",
   "metadata": {},
   "outputs": [],
   "source": [
    "print(tuner.synthetic_dataset)\n",
    "print(tuner.synthetic_target)"
   ]
  },
  {
   "cell_type": "markdown",
   "id": "1ef3cfe3",
   "metadata": {},
   "source": [
    "#### Optimization feedback"
   ]
  },
  {
   "cell_type": "code",
   "execution_count": null,
   "id": "00e1581a",
   "metadata": {},
   "outputs": [],
   "source": [
    "print('Feedback', tuner.assistant_feedback)"
   ]
  },
  {
   "cell_type": "code",
   "execution_count": null,
   "id": "b84c8825",
   "metadata": {},
   "outputs": [],
   "source": []
  },
  {
   "cell_type": "code",
   "execution_count": null,
   "id": "10510d75",
   "metadata": {},
   "outputs": [],
   "source": []
  }
 ],
 "metadata": {
  "kernelspec": {
   "display_name": "Python 3",
   "language": "python",
   "name": "python3"
  },
  "language_info": {
   "codemirror_mode": {
    "name": "ipython",
    "version": 3
   },
   "file_extension": ".py",
   "mimetype": "text/x-python",
   "name": "python",
   "nbconvert_exporter": "python",
   "pygments_lexer": "ipython3",
   "version": "3.12.7"
  }
 },
 "nbformat": 4,
 "nbformat_minor": 5
}
