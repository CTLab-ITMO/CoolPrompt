{
 "cells": [
  {
   "cell_type": "code",
   "execution_count": 1,
   "id": "initial_id",
   "metadata": {
    "collapsed": true,
    "ExecuteTime": {
     "end_time": "2025-03-07T08:41:38.110974700Z",
     "start_time": "2025-03-07T08:41:31.120241Z"
    }
   },
   "outputs": [
    {
     "data": {
      "text/plain": "<torch._C.Generator at 0x7f057b970170>"
     },
     "execution_count": 1,
     "metadata": {},
     "output_type": "execute_result"
    }
   ],
   "source": [
    "import sys\n",
    "import os\n",
    "# This code enables using of \"src.data\" imports in vs code (when you're launching it directly from notebooks directory)\n",
    "project_root = os.path.abspath(os.path.join(os.getcwd(), \"../../\"))\n",
    "sys.path.append(project_root)\n",
    "\n",
    "from transformers import AutoTokenizer, AutoModelForCausalLM\n",
    "import torch\n",
    "import transformers\n",
    "from src.data.classification import SST2Dataset\n",
    "\n",
    "torch.manual_seed(42)"
   ]
  },
  {
   "cell_type": "code",
   "execution_count": 2,
   "outputs": [
    {
     "data": {
      "text/plain": "Loading checkpoint shards:   0%|          | 0/4 [00:00<?, ?it/s]",
      "application/vnd.jupyter.widget-view+json": {
       "version_major": 2,
       "version_minor": 0,
       "model_id": "eae719925ca54376a638106bc7aa113b"
      }
     },
     "metadata": {},
     "output_type": "display_data"
    }
   ],
   "source": [
    "# Loading model weights\n",
    "qconf = transformers.BitsAndBytesConfig(load_in_8bit=True)\n",
    "\n",
    "model_name = \"AnatoliiPotapov/T-lite-instruct-0.1\"\n",
    "tokenizer = AutoTokenizer.from_pretrained(model_name, padding_side='left')\n",
    "\n",
    "model = AutoModelForCausalLM.from_pretrained(\n",
    "    model_name, \n",
    "    device_map=\"auto\",\n",
    "    torch_dtype=\"auto\",\n",
    "    quantization_config=qconf,\n",
    ")"
   ],
   "metadata": {
    "collapsed": false,
    "ExecuteTime": {
     "end_time": "2025-03-07T08:41:47.675757100Z",
     "start_time": "2025-03-07T08:41:38.110974700Z"
    }
   },
   "id": "5415d576e316a348"
  },
  {
   "cell_type": "code",
   "execution_count": 3,
   "outputs": [],
   "source": [
    "#eval_prompt = \"Classify the sentiment as positive or negative\"\n",
    "\n",
    "test_sst2_ds = SST2Dataset(\n",
    "    #prompt=eval_prompt,\n",
    "    tokenizer=tokenizer,\n",
    "    data_path=\"../../data/sst-2/test-00000-of-00001.parquet\",\n",
    "    config_path=\"../../data/\",\n",
    "    device=model.device\n",
    ")"
   ],
   "metadata": {
    "collapsed": false,
    "ExecuteTime": {
     "end_time": "2025-03-07T08:41:47.745187800Z",
     "start_time": "2025-03-07T08:41:47.675757100Z"
    }
   },
   "id": "58f752ae1ac148ba"
  },
  {
   "cell_type": "code",
   "execution_count": 4,
   "outputs": [
    {
     "data": {
      "text/plain": "'Please perform Sentiment Classification task\\n\\nAnswer using the label from [negative, positive].\\nGenerate the final answer bracketed with <ans> and </ans>.\\n\\nThe input:\\n<INPUT>\\n\\nResponse:\\n'"
     },
     "execution_count": 4,
     "metadata": {},
     "output_type": "execute_result"
    }
   ],
   "source": [
    "test_sst2_ds.prompt"
   ],
   "metadata": {
    "collapsed": false,
    "ExecuteTime": {
     "end_time": "2025-03-07T08:41:47.745187800Z",
     "start_time": "2025-03-07T08:41:47.745187800Z"
    }
   },
   "id": "7a871fc12066ed7e"
  },
  {
   "cell_type": "code",
   "execution_count": 5,
   "outputs": [
    {
     "name": "stdout",
     "output_type": "stream",
     "text": [
      "torch.Size([99]) torch.Size([99]) torch.Size([])\n"
     ]
    }
   ],
   "source": [
    "# getting first data sample\n",
    "\n",
    "input_ids, attention_mask, label = next(iter(test_sst2_ds))\n",
    "print(input_ids.shape, attention_mask.shape, label.shape)"
   ],
   "metadata": {
    "collapsed": false,
    "ExecuteTime": {
     "end_time": "2025-03-07T08:41:52.181908Z",
     "start_time": "2025-03-07T08:41:52.163300600Z"
    }
   },
   "id": "2e2424a606ef7da1"
  },
  {
   "cell_type": "code",
   "execution_count": 6,
   "outputs": [
    {
     "name": "stderr",
     "output_type": "stream",
     "text": [
      "Setting `pad_token_id` to `eos_token_id`:128001 for open-end generation.\n",
      "/nfs/home/edyagin/.virtualenvs/prompt_optimization/lib/python3.10/site-packages/bitsandbytes/autograd/_functions.py:315: UserWarning: MatMul8bitLt: inputs will be cast from torch.bfloat16 to float16 during quantization\n",
      "  warnings.warn(f\"MatMul8bitLt: inputs will be cast from {A.dtype} to float16 during quantization\")\n"
     ]
    }
   ],
   "source": [
    "# terminators were taken from hf model page (t-lite 0.1)\n",
    "\n",
    "terminators = [\n",
    "    tokenizer.eos_token_id,\n",
    "    tokenizer.convert_tokens_to_ids(\"<|eot_id|>\")\n",
    "]\n",
    "\n",
    "# generating answer for our sample \n",
    "# unsqueeze(0) - to make to necessary shape (when using DataLoader it'll be done automatically)\n",
    "outputs = model.generate(\n",
    "    input_ids=input_ids.unsqueeze(0),\n",
    "    attention_mask = attention_mask.unsqueeze(0),\n",
    "    max_new_tokens=50,\n",
    "    eos_token_id=terminators,\n",
    ")"
   ],
   "metadata": {
    "collapsed": false,
    "ExecuteTime": {
     "end_time": "2025-03-07T08:41:54.448078200Z",
     "start_time": "2025-03-07T08:41:53.167912700Z"
    }
   },
   "id": "f8bc0fa53a240b05"
  },
  {
   "cell_type": "code",
   "execution_count": 7,
   "outputs": [
    {
     "data": {
      "text/plain": "'Please perform Sentiment Classification task\\n\\nAnswer using the label from [negative, positive].\\nGenerate the final answer bracketed with <ans> and </ans>.\\n\\nThe input:\\nno movement, no yuks, not much of anything.\\n\\nResponse:\\n<ans>negative</ans>'"
     },
     "execution_count": 7,
     "metadata": {},
     "output_type": "execute_result"
    }
   ],
   "source": [
    "# decoding the answer\n",
    "\n",
    "ans = tokenizer.decode(outputs[0], skip_special_tokens=True)\n",
    "ans"
   ],
   "metadata": {
    "collapsed": false,
    "ExecuteTime": {
     "end_time": "2025-03-07T08:42:19.517956100Z",
     "start_time": "2025-03-07T08:42:19.467050400Z"
    }
   },
   "id": "e7778649ab576d8d"
  },
  {
   "cell_type": "code",
   "execution_count": 18,
   "outputs": [
    {
     "data": {
      "text/plain": "'<ans>negative</ans>'"
     },
     "execution_count": 18,
     "metadata": {},
     "output_type": "execute_result"
    }
   ],
   "source": [
    "len(input_ids), len(outputs[0])\n",
    "tokenizer.decode(outputs[0][len(input_ids):], skip_special_tokens=True)"
   ],
   "metadata": {
    "collapsed": false,
    "ExecuteTime": {
     "end_time": "2025-03-07T09:11:20.215981500Z",
     "start_time": "2025-03-07T09:11:20.183977100Z"
    }
   },
   "id": "f61cb9905ac98b6b"
  },
  {
   "cell_type": "code",
   "execution_count": 8,
   "outputs": [
    {
     "data": {
      "text/plain": "'<pad><pad><pad><pad><pad><pad><pad><pad><pad><pad><pad><pad><pad><pad><pad><pad><pad><pad><pad><pad><pad><pad><pad><pad><pad><pad><pad><pad><pad><pad><pad><pad><pad><pad><pad><pad><pad><pad><pad><pad><pad><pad><pad><pad><pad><pad><pad><pad><pad><pad><pad>Please perform Sentiment Classification task\\n\\nAnswer using the label from [negative, positive].\\nGenerate the final answer bracketed with <ans> and </ans>.\\n\\nThe input:\\nno movement, no yuks, not much of anything.\\n\\nResponse:\\n'"
     },
     "execution_count": 8,
     "metadata": {},
     "output_type": "execute_result"
    }
   ],
   "source": [
    "tokenizer.decode(input_ids)"
   ],
   "metadata": {
    "collapsed": false,
    "ExecuteTime": {
     "end_time": "2025-03-07T08:42:22.046636Z",
     "start_time": "2025-03-07T08:42:21.994663900Z"
    }
   },
   "id": "74c8c287013ad604"
  },
  {
   "cell_type": "code",
   "execution_count": 9,
   "outputs": [],
   "source": [
    "def _extract_label_id_from_answer(answer: str, label2id: dict[str, int]) -> torch.Tensor:\n",
    "        \n",
    "        ANS_BEGINNING_TAG = \"<ans>\"\n",
    "        ANS_BEGINNING_TAG = \"<ans>\"\n",
    "        ANS_ENDING_TAG = \"</ans>\"\n",
    "\n",
    "        FORMAT_MISMATCH_LABEL = -1\n",
    "        start_idx = answer.rfind(ANS_BEGINNING_TAG)\n",
    "\n",
    "        if start_idx == -1:\n",
    "            return torch.tensor(FORMAT_MISMATCH_LABEL)\n",
    "\n",
    "        content_start = start_idx + len(ANS_BEGINNING_TAG)\n",
    "        end_idx = answer.find(ANS_ENDING_TAG, content_start)\n",
    "\n",
    "        if end_idx == -1:\n",
    "            return torch.tensor(FORMAT_MISMATCH_LABEL)\n",
    "\n",
    "        label = answer[content_start:end_idx]\n",
    "\n",
    "        return torch.tensor(label2id.get(label, FORMAT_MISMATCH_LABEL))"
   ],
   "metadata": {
    "collapsed": false,
    "ExecuteTime": {
     "end_time": "2025-03-07T08:42:22.478487300Z",
     "start_time": "2025-03-07T08:42:22.464713300Z"
    }
   },
   "id": "f27779d9f12ede14"
  },
  {
   "cell_type": "code",
   "execution_count": 10,
   "outputs": [
    {
     "data": {
      "text/plain": "'Please perform Sentiment Classification task\\n\\nAnswer using the label from [negative, positive].\\nGenerate the final answer bracketed with <ans> and </ans>.\\n\\nThe input:\\nno movement, no yuks, not much of anything.\\n\\nResponse:\\n<ans>negative</ans>'"
     },
     "execution_count": 10,
     "metadata": {},
     "output_type": "execute_result"
    }
   ],
   "source": [
    "answers = tokenizer.decode(outputs[0], skip_special_tokens=True)\n",
    "answers"
   ],
   "metadata": {
    "collapsed": false,
    "ExecuteTime": {
     "end_time": "2025-03-07T08:42:28.061016400Z",
     "start_time": "2025-03-07T08:42:28.042124900Z"
    }
   },
   "id": "3a477aba84e2a96c"
  },
  {
   "cell_type": "code",
   "execution_count": 15,
   "outputs": [
    {
     "data": {
      "text/plain": "'Please perform Sentiment Classification task\\n\\nAnswer using the label from [negative, positive].\\nGenerate the final answer bracketed with <ans> and </ans>.\\n\\nThe input:\\n<INPUT>\\n\\nResponse:\\n'"
     },
     "execution_count": 15,
     "metadata": {},
     "output_type": "execute_result"
    }
   ],
   "source": [
    "test_sst2_ds.prompt"
   ],
   "metadata": {
    "collapsed": false,
    "ExecuteTime": {
     "end_time": "2025-03-07T09:09:03.728168200Z",
     "start_time": "2025-03-07T09:09:03.671415700Z"
    }
   },
   "id": "e9b6a38e42898c1a"
  },
  {
   "cell_type": "code",
   "execution_count": 14,
   "outputs": [
    {
     "data": {
      "text/plain": "-1"
     },
     "execution_count": 14,
     "metadata": {},
     "output_type": "execute_result"
    }
   ],
   "source": [
    "s = \"Response: <hi>\"\n",
    "s.rfind(\"<ans>\")\n",
    "answers.find(test_sst2_ds.prompt)"
   ],
   "metadata": {
    "collapsed": false,
    "ExecuteTime": {
     "end_time": "2025-03-07T09:08:49.213183200Z",
     "start_time": "2025-03-07T09:08:49.188160600Z"
    }
   },
   "id": "9caa6c02c4e3dfd"
  },
  {
   "cell_type": "code",
   "execution_count": 21,
   "outputs": [],
   "source": [
    "def importOrReload(module_name, *names):\n",
    "    import sys\n",
    "    from importlib import reload\n",
    "    \n",
    "    if module_name in sys.modules:\n",
    "        reload(sys.modules[module_name])\n",
    "    else:\n",
    "        __import__(module_name, fromlist=names)\n",
    "\n",
    "    for name in names:\n",
    "        globals()[name] = getattr(sys.modules[module_name], name)\n",
    "\n",
    "# use instead of: from dfly_parser import parseMessages\n",
    "importOrReload(\"src.evaluation.evaluator\", \"TextClassificationEvaluator\")"
   ],
   "metadata": {
    "collapsed": false,
    "ExecuteTime": {
     "end_time": "2025-03-07T09:16:09.255100700Z",
     "start_time": "2025-03-07T09:16:09.223141Z"
    }
   },
   "id": "d3a6e8cdadc4e1d7"
  },
  {
   "cell_type": "code",
   "execution_count": 1,
   "outputs": [
    {
     "ename": "ImportError",
     "evalue": "cannot import name 'TextClassificationEvaluator' from 'src.evaluation.evaluator' (/nfs/home/edyagin/CoolPrompt/src/evaluation/evaluator.py)",
     "output_type": "error",
     "traceback": [
      "\u001B[0;31m---------------------------------------------------------------------------\u001B[0m",
      "\u001B[0;31mImportError\u001B[0m                               Traceback (most recent call last)",
      "Cell \u001B[0;32mIn[1], line 1\u001B[0m\n\u001B[0;32m----> 1\u001B[0m \u001B[38;5;28;01mfrom\u001B[39;00m\u001B[38;5;250m \u001B[39m\u001B[38;5;21;01msrc\u001B[39;00m\u001B[38;5;21;01m.\u001B[39;00m\u001B[38;5;21;01mevaluation\u001B[39;00m\u001B[38;5;21;01m.\u001B[39;00m\u001B[38;5;21;01mevaluator\u001B[39;00m\u001B[38;5;250m \u001B[39m\u001B[38;5;28;01mimport\u001B[39;00m TextClassificationEvaluator\n\u001B[1;32m      3\u001B[0m model_generate_params \u001B[38;5;241m=\u001B[39m {\n\u001B[1;32m      4\u001B[0m     \u001B[38;5;124m\"\u001B[39m\u001B[38;5;124mmax_new_tokens\u001B[39m\u001B[38;5;124m\"\u001B[39m: \u001B[38;5;241m50\u001B[39m,\n\u001B[1;32m      5\u001B[0m     \u001B[38;5;124m\"\u001B[39m\u001B[38;5;124meos_token_id\u001B[39m\u001B[38;5;124m\"\u001B[39m: terminators\n\u001B[1;32m      6\u001B[0m }\n\u001B[1;32m      8\u001B[0m evaluator \u001B[38;5;241m=\u001B[39m TextClassificationEvaluator()\n",
      "\u001B[0;31mImportError\u001B[0m: cannot import name 'TextClassificationEvaluator' from 'src.evaluation.evaluator' (/nfs/home/edyagin/CoolPrompt/src/evaluation/evaluator.py)"
     ]
    }
   ],
   "source": [
    "from src.evaluation.evaluator import TextClassificationEvaluator\n",
    "\n",
    "model_generate_params = {\n",
    "    \"max_new_tokens\": 50,\n",
    "    \"eos_token_id\": terminators\n",
    "}\n",
    "\n",
    "evaluator = TextClassificationEvaluator()\n",
    "macro_f1 = evaluator.evaluate(\n",
    "    model=model, \n",
    "    tokenizer=tokenizer,\n",
    "    eval_ds=test_sst2_ds,\n",
    "    batch_size=64,\n",
    ")\n",
    "macro_f1"
   ],
   "metadata": {
    "collapsed": false,
    "ExecuteTime": {
     "end_time": "2025-03-07T10:59:25.873741200Z",
     "start_time": "2025-03-07T10:59:18.735670600Z"
    }
   },
   "id": "8dedbdaa35ed884"
  },
  {
   "cell_type": "code",
   "execution_count": null,
   "outputs": [],
   "source": [],
   "metadata": {
    "collapsed": false,
    "ExecuteTime": {
     "end_time": "2025-03-07T10:59:15.173058400Z",
     "start_time": "2025-03-07T10:59:15.172048300Z"
    }
   },
   "id": "b6f3bff5d080ec5f"
  },
  {
   "cell_type": "code",
   "execution_count": null,
   "outputs": [],
   "source": [],
   "metadata": {
    "collapsed": false
   },
   "id": "8b1ba085730529a0"
  }
 ],
 "metadata": {
  "kernelspec": {
   "display_name": "Python 3",
   "language": "python",
   "name": "python3"
  },
  "language_info": {
   "codemirror_mode": {
    "name": "ipython",
    "version": 2
   },
   "file_extension": ".py",
   "mimetype": "text/x-python",
   "name": "python",
   "nbconvert_exporter": "python",
   "pygments_lexer": "ipython2",
   "version": "2.7.6"
  }
 },
 "nbformat": 4,
 "nbformat_minor": 5
}
