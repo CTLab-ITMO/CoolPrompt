{
 "cells": [
  {
   "cell_type": "code",
   "execution_count": null,
   "id": "30318ea6",
   "metadata": {},
   "outputs": [],
   "source": [
    "import os\n",
    "import json\n",
    "from coolprompt.utils.red_models import AttackModel, TargetModel, JudgeModel, RedModel\n",
    "from coolprompt.utils.redConfig import ModelCfg\n",
    "\n",
    "os.environ[\"HF_TOKEN\"] = \"YOUR_HF_TOKEN\"\n",
    "HF_TOKEN = os.getenv(\"HF_TOKEN\") "
   ]
  },
  {
   "cell_type": "code",
   "execution_count": null,
   "id": "4c262565",
   "metadata": {},
   "outputs": [],
   "source": [
    "cfg = ModelCfg.ZEPHYR_7B.asdict()\n",
    "\n",
    "attack = AttackModel(**cfg)\n",
    "target = TargetModel(**cfg)\n",
    "judge  = JudgeModel(**cfg)\n",
    "\n",
    "red = RedModel(attack, target, judge)\n",
    "print(\"Модели успешно инициализированы!\")\n",
    "\n",
    "prompt = \"abracadabra\"\n",
    "result = red.attack(prompt, max_attempts=3)\n",
    "print(json.dumps(result, ensure_ascii=False, indent=2))\n",
    "\n",
    "# кривой парсинг у судьи из-за кривого промпта, надо подправить"
   ]
  }
 ],
 "metadata": {
  "kernelspec": {
   "display_name": "py310",
   "language": "python",
   "name": "python3"
  },
  "language_info": {
   "codemirror_mode": {
    "name": "ipython",
    "version": 3
   },
   "file_extension": ".py",
   "mimetype": "text/x-python",
   "name": "python",
   "nbconvert_exporter": "python",
   "pygments_lexer": "ipython3",
   "version": "3.10.18"
  }
 },
 "nbformat": 4,
 "nbformat_minor": 5
}
