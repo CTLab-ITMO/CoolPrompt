{
 "cells": [
  {
   "cell_type": "markdown",
   "id": "642df3d3",
   "metadata": {},
   "source": [
    "To start optimization you need to import **PromptTuner** and create an instance:"
   ]
  },
  {
   "cell_type": "code",
   "execution_count": null,
   "id": "968dd629-4357-4929-9af9-ccf2a7023a75",
   "metadata": {},
   "outputs": [],
   "source": [
    "from coolprompt.assistant import PromptTuner\n",
    "tuner = PromptTuner()"
   ]
  },
  {
   "cell_type": "markdown",
   "id": "1efaa4e7",
   "metadata": {},
   "source": [
    "### Starting Optimization"
   ]
  },
  {
   "cell_type": "markdown",
   "id": "bf765ce6",
   "metadata": {},
   "source": [
    "**PromptTuner** requiers a **start prompt** to begin optimization. You can also provide a **dataset** in order to evaluate your prompt, which will give you the initial and final metrics after optimization."
   ]
  },
  {
   "cell_type": "markdown",
   "id": "fe3cff99",
   "metadata": {},
   "source": [
    "In this example, we will use a HyPE optimizer and **SST-2 dataset** for evaluation."
   ]
  },
  {
   "cell_type": "code",
   "execution_count": 11,
   "id": "8d53dd2f-8596-4ca3-afe8-212c043680ce",
   "metadata": {},
   "outputs": [],
   "source": [
    "from datasets import load_dataset\n",
    "\n",
    "sst2 = load_dataset(\"sst2\")\n",
    "n_instances = 100\n",
    "dataset = sst2['train']['sentence'][:n_instances]\n",
    "targets = sst2['train']['label'][:n_instances]\n",
    "\n",
    "start_prompt = '''\n",
    "Please perform Sentiment Classification task.\n",
    "\n",
    "Answer using the label from [0, 1], where 0 stands for negative, 1 stands for positive.\n",
    "Generate the final answer bracketed with <ans> and </ans>.\n",
    "\n",
    "The input:\n",
    "'''"
   ]
  },
  {
   "cell_type": "markdown",
   "id": "53fe3664",
   "metadata": {},
   "source": [
    "To begin optimization, call .run() with the following parameters: \n",
    "\n",
    "* **Start prompt** (required)\n",
    "    \n",
    "* **Dataset** (optional, for evaluation or data-driven optimization)\n",
    "    \n",
    "* **Target** (sequence of correct labels for the dataset samples), \n",
    "    \n",
    "* **Task type** ('classification' or 'generation'; default is 'generation'), \n",
    "    \n",
    "* **Metric** (use 'f1'/'accuracy' for classification, 'bleu'/'meteor'/'rouge' for generation)"
   ]
  },
  {
   "cell_type": "code",
   "execution_count": null,
   "id": "792dae57",
   "metadata": {
    "scrolled": true
   },
   "outputs": [],
   "source": [
    "final_prompt = tuner.run(start_prompt=start_prompt,\n",
    "                         dataset=dataset,\n",
    "                         target=targets,\n",
    "                         task='classification',\n",
    "                         metric=\"accuracy\")"
   ]
  },
  {
   "cell_type": "markdown",
   "id": "2ed38cd8",
   "metadata": {},
   "source": [
    "### Observing Results"
   ]
  },
  {
   "cell_type": "markdown",
   "id": "82a1db53",
   "metadata": {},
   "source": [
    "After optimization completes, you can view the **final prompt**, initial and final metrics:"
   ]
  },
  {
   "cell_type": "code",
   "execution_count": null,
   "id": "fa563efd",
   "metadata": {},
   "outputs": [],
   "source": [
    "print(\"PROMPT:\", final_prompt)\n",
    "print(\"INITIAL METRIC:\", tuner.init_metric)\n",
    "print(\"FINAL METRIC:\", tuner.final_metric)"
   ]
  },
  {
   "cell_type": "code",
   "execution_count": null,
   "id": "a122665b-fc42-4ce3-af3c-5e5b5d0f6e43",
   "metadata": {},
   "outputs": [],
   "source": []
  }
 ],
 "metadata": {
  "kernelspec": {
   "display_name": ".venv",
   "language": "python",
   "name": "python3"
  },
  "language_info": {
   "codemirror_mode": {
    "name": "ipython",
    "version": 3
   },
   "file_extension": ".py",
   "mimetype": "text/x-python",
   "name": "python",
   "nbconvert_exporter": "python",
   "pygments_lexer": "ipython3",
   "version": "3.12.7"
  }
 },
 "nbformat": 4,
 "nbformat_minor": 5
}
