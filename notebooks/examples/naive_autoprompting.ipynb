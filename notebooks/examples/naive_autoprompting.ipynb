{
 "cells": [
  {
   "cell_type": "code",
   "execution_count": null,
   "id": "f5c0b823",
   "metadata": {},
   "outputs": [],
   "source": [
    "import sys\n",
    "import os\n",
    "project_root = os.path.abspath(os.path.join(os.getcwd(), \"../../\"))\n",
    "sys.path.append(project_root)"
   ]
  },
  {
   "cell_type": "code",
   "execution_count": null,
   "id": "221f53d1",
   "metadata": {},
   "outputs": [],
   "source": [
    "from coolprompt.assistant import PromptTuner\n",
    "import json\n",
    "\n",
    "prompts = [\n",
    "    \"What is common with the crow and writing table?\",\n",
    "    \"А как сделать чтобы langchain создал локальную модель\",\n",
    "    \"бро напиши пж решение задачи: доказать что моноид это категория\",\n",
    "    \"привет я составляю сборку для майнкрафт 1.21 neoforge и мне нужна база. это моды типа wawla, dynamic lights, jei+nei, journey миникарта, показ восстановления еды, показ прочности предметов, еще какие то\",\n",
    "    \"\"\">>> send_email(None)\n",
    "Traceback (most recent call last):\n",
    "  File \"<stdin>\", line 1, in <module>\n",
    "  File \"/path/to/project/main.py\", line 8, in send_email\n",
    "    raise InvalidEmailAddress(\"Invalid email address\")\n",
    "InvalidEmailAddress: Invalid email address\n",
    "а чо я неправильно пишу?\n",
    "\"\"\",\n",
    "]\n",
    "with open(\"../data/basic_prompts.json\", \"r\") as f:\n",
    "    prompts_json = json.load(f)\n",
    "    for _, prompt in prompts_json.items():\n",
    "        if isinstance(prompt, str):\n",
    "            prompts.append(prompt)\n",
    "        else:\n",
    "            for _, p in prompt.items():\n",
    "                prompts.append(p)\n"
   ]
  },
  {
   "cell_type": "code",
   "execution_count": null,
   "id": "792dae57",
   "metadata": {},
   "outputs": [],
   "source": [
    "pt = PromptTuner()"
   ]
  },
  {
   "cell_type": "code",
   "execution_count": null,
   "id": "fa563efd",
   "metadata": {},
   "outputs": [],
   "source": [
    "for prompt in prompts:\n",
    "    print(f\"prompt: {prompt}\")\n",
    "    print(f\"result: {pt.run(start_prompt=prompt)}\")\n",
    "    print(\"%\" * 80)"
   ]
  }
 ],
 "metadata": {
  "kernelspec": {
   "display_name": "solution3",
   "language": "python",
   "name": "python3"
  },
  "language_info": {
   "name": "python",
   "version": "3.12.9"
  }
 },
 "nbformat": 4,
 "nbformat_minor": 5
}
