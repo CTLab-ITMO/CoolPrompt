{
 "cells": [
  {
   "cell_type": "code",
   "execution_count": null,
   "id": "dd81425e-5380-4a3e-a896-2b48d3615ae6",
   "metadata": {},
   "outputs": [],
   "source": [
    "from coolprompt.assistant import PromptTuner\n",
    "from coolprompt.language_model.llm import DefaultLLM\n",
    "\n",
    "model = DefaultLLM.init(langchain_config={\n",
    "    'max_new_tokens': 400,\n",
    "    \"temperature\": 0.15,\n",
    "})\n",
    "tuner = PromptTuner(model=model)"
   ]
  },
  {
   "cell_type": "code",
   "execution_count": 3,
   "id": "2ef23eb2-0685-4afe-b0d6-0533fc7a9316",
   "metadata": {},
   "outputs": [],
   "source": [
    "from datasets import load_dataset\n",
    "\n",
    "sst2 = load_dataset(\"sst2\")\n",
    "n_instances = 20\n",
    "dataset = sst2['train']['sentence'][:n_instances]\n",
    "targets = sst2['train']['label'][:n_instances]"
   ]
  },
  {
   "cell_type": "code",
   "execution_count": 4,
   "id": "16256b61-ce12-4536-977e-0aed17a55529",
   "metadata": {},
   "outputs": [],
   "source": [
    "start_prompt = \"Please perform Sentiment Classification task.\""
   ]
  },
  {
   "cell_type": "code",
   "execution_count": null,
   "id": "14fb251c-c3e7-40dc-8afa-ef70fb49b298",
   "metadata": {},
   "outputs": [],
   "source": [
    "final_prompt = tuner.run(\n",
    "    start_prompt=start_prompt,\n",
    "    task='classification',\n",
    "    dataset=dataset,\n",
    "    target=targets,\n",
    "    method='reflective',\n",
    "    problem_description='sentiment classification',\n",
    "    use_cache=False,\n",
    "    population_size=4,\n",
    "    num_epochs=3\n",
    ")"
   ]
  },
  {
   "cell_type": "code",
   "execution_count": 6,
   "id": "789e4767-3ff2-43ce-9177-c08f3e6137c2",
   "metadata": {},
   "outputs": [
    {
     "name": "stdout",
     "output_type": "stream",
     "text": [
      "PROMPT:  Could you please help me with the Sentiment Classification task? I would appreciate it if you could provide a prompt that effectively solves this problem. \n"
     ]
    }
   ],
   "source": [
    "print(\"PROMPT:\", final_prompt)"
   ]
  },
  {
   "cell_type": "code",
   "execution_count": 7,
   "id": "51069d78-868f-42d2-92b5-0f8d8a405439",
   "metadata": {},
   "outputs": [
    {
     "name": "stdout",
     "output_type": "stream",
     "text": [
      "INITIAL METRIC: 0.3421052631578947\n"
     ]
    }
   ],
   "source": [
    "print(\"INITIAL METRIC:\", tuner.init_metric)"
   ]
  },
  {
   "cell_type": "code",
   "execution_count": 8,
   "id": "43c2bcbd-9fab-4ac6-9c2b-32b826a97bcf",
   "metadata": {},
   "outputs": [
    {
     "name": "stdout",
     "output_type": "stream",
     "text": [
      "FINAL METRIC: 0.8901098901098901\n"
     ]
    }
   ],
   "source": [
    "print(\"FINAL METRIC:\", tuner.final_metric)"
   ]
  },
  {
   "cell_type": "code",
   "execution_count": null,
   "id": "1ef17e57-7955-42c4-ae98-0c721006faf2",
   "metadata": {},
   "outputs": [],
   "source": []
  }
 ],
 "metadata": {
  "kernelspec": {
   "display_name": "Python 3 (ipykernel)",
   "language": "python",
   "name": "python3"
  },
  "language_info": {
   "codemirror_mode": {
    "name": "ipython",
    "version": 3
   },
   "file_extension": ".py",
   "mimetype": "text/x-python",
   "name": "python",
   "nbconvert_exporter": "python",
   "pygments_lexer": "ipython3",
   "version": "3.10.12"
  }
 },
 "nbformat": 4,
 "nbformat_minor": 5
}
