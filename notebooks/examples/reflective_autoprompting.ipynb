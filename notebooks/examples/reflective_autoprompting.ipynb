{
 "cells": [
  {
   "cell_type": "code",
   "execution_count": 1,
   "id": "d59a86f7-c56c-4e48-a82f-e85f593a13fb",
   "metadata": {},
   "outputs": [],
   "source": [
    "import sys\n",
    "import os\n",
    "project_root = os.path.abspath(os.path.join(os.getcwd(), \"../../\"))\n",
    "sys.path.append(project_root)"
   ]
  },
  {
   "cell_type": "code",
   "execution_count": 2,
   "id": "dd81425e-5380-4a3e-a896-2b48d3615ae6",
   "metadata": {},
   "outputs": [
    {
     "name": "stdout",
     "output_type": "stream",
     "text": [
      "INFO 06-06 16:58:26 [importing.py:53] Triton module has been replaced with a placeholder.\n",
      "INFO 06-06 16:58:26 [__init__.py:239] Automatically detected platform cuda.\n",
      "WARNING 06-06 16:58:26 [cuda.py:409] Detected different devices in the system: NVIDIA GeForce RTX 2080 Ti, NVIDIA TITAN RTX. Please make sure to set `CUDA_DEVICE_ORDER=PCI_BUS_ID` to avoid unexpected behavior.\n",
      "WARNING 06-06 16:58:30 [config.py:2972] Casting torch.bfloat16 to torch.float16.\n",
      "INFO 06-06 16:58:42 [config.py:717] This model supports multiple tasks: {'classify', 'embed', 'score', 'reward', 'generate'}. Defaulting to 'generate'.\n",
      "WARNING 06-06 16:58:42 [arg_utils.py:1658] Compute Capability < 8.0 is not supported by the V1 Engine. Falling back to V0. \n",
      "INFO 06-06 16:58:42 [llm_engine.py:240] Initializing a V0 LLM engine (v0.8.5.post1) with config: model='t-tech/T-lite-it-1.0', speculative_config=None, tokenizer='t-tech/T-lite-it-1.0', skip_tokenizer_init=False, tokenizer_mode=auto, revision=None, override_neuron_config=None, tokenizer_revision=None, trust_remote_code=True, dtype=torch.float16, max_seq_len=32768, download_dir=None, load_format=auto, tensor_parallel_size=1, pipeline_parallel_size=1, disable_custom_all_reduce=False, quantization=None, enforce_eager=False, kv_cache_dtype=auto,  device_config=cuda, decoding_config=DecodingConfig(guided_decoding_backend='auto', reasoning_backend=None), observability_config=ObservabilityConfig(show_hidden_metrics=False, otlp_traces_endpoint=None, collect_model_forward_time=False, collect_model_execute_time=False), seed=None, served_model_name=t-tech/T-lite-it-1.0, num_scheduler_steps=1, multi_step_stream_outputs=True, enable_prefix_caching=None, chunked_prefill_enabled=False, use_async_output_proc=True, disable_mm_preprocessor_cache=False, mm_processor_kwargs=None, pooler_config=None, compilation_config={\"splitting_ops\":[],\"compile_sizes\":[],\"cudagraph_capture_sizes\":[256,248,240,232,224,216,208,200,192,184,176,168,160,152,144,136,128,120,112,104,96,88,80,72,64,56,48,40,32,24,16,8,4,2,1],\"max_capture_size\":256}, use_cached_outputs=False, \n",
      "INFO 06-06 16:58:44 [cuda.py:240] Cannot use FlashAttention-2 backend for Volta and Turing GPUs.\n",
      "INFO 06-06 16:58:44 [cuda.py:289] Using XFormers backend.\n",
      "INFO 06-06 16:58:44 [parallel_state.py:1004] rank 0 in world size 1 is assigned as DP rank 0, PP rank 0, TP rank 0\n",
      "INFO 06-06 16:58:44 [model_runner.py:1108] Starting to load model t-tech/T-lite-it-1.0...\n",
      "INFO 06-06 16:58:45 [weight_utils.py:265] Using model weights format ['*.safetensors']\n"
     ]
    },
    {
     "data": {
      "application/vnd.jupyter.widget-view+json": {
       "model_id": "2333fc10353c4539ad24d19bff49e89a",
       "version_major": 2,
       "version_minor": 0
      },
      "text/plain": [
       "Loading safetensors checkpoint shards:   0% Completed | 0/4 [00:00<?, ?it/s]\n"
      ]
     },
     "metadata": {},
     "output_type": "display_data"
    },
    {
     "name": "stdout",
     "output_type": "stream",
     "text": [
      "INFO 06-06 16:58:53 [loader.py:458] Loading weights took 8.10 seconds\n",
      "INFO 06-06 16:58:54 [model_runner.py:1140] Model loading took 14.2427 GiB and 8.992677 seconds\n",
      "INFO 06-06 16:58:59 [worker.py:287] Memory profiling takes 5.34 seconds\n",
      "INFO 06-06 16:58:59 [worker.py:287] the current vLLM instance can use total_gpu_memory (23.64GiB) x gpu_memory_utilization (0.90) = 21.27GiB\n",
      "INFO 06-06 16:58:59 [worker.py:287] model weights take 14.24GiB; non_torch_memory takes 0.06GiB; PyTorch activation peak memory takes 4.35GiB; the rest of the memory reserved for KV Cache is 2.62GiB.\n",
      "INFO 06-06 16:58:59 [executor_base.py:112] # cuda blocks: 3068, # CPU blocks: 4681\n",
      "INFO 06-06 16:58:59 [executor_base.py:117] Maximum concurrency for 32768 tokens per request: 1.50x\n",
      "INFO 06-06 16:59:05 [model_runner.py:1450] Capturing cudagraphs for decoding. This may lead to unexpected consequences if the model is not static. To run the model in eager mode, set 'enforce_eager=True' or use '--enforce-eager' in the CLI. If out-of-memory error occurs during cudagraph capture, consider decreasing `gpu_memory_utilization` or switching to eager mode. You can also reduce the `max_num_seqs` as needed to decrease memory usage.\n"
     ]
    },
    {
     "data": {
      "application/vnd.jupyter.widget-view+json": {
       "model_id": "72a5997d3c5c4359923a1cb086691deb",
       "version_major": 2,
       "version_minor": 0
      },
      "text/plain": [
       "Capturing CUDA graph shapes:   0%|          | 0/35 [00:00<?, ?it/s]"
      ]
     },
     "metadata": {},
     "output_type": "display_data"
    },
    {
     "name": "stdout",
     "output_type": "stream",
     "text": [
      "INFO 06-06 16:59:24 [model_runner.py:1592] Graph capturing finished in 20 secs, took 0.21 GiB\n",
      "INFO 06-06 16:59:24 [llm_engine.py:437] init engine (profile, create kv cache, warmup model) took 30.39 seconds\n"
     ]
    }
   ],
   "source": [
    "from coolprompt.assistant import PromptTuner\n",
    "from coolprompt.language_model.llm import DefaultLLM\n",
    "\n",
    "model = DefaultLLM.init(langchain_config={\n",
    "    'max_new_tokens': 400,\n",
    "    \"temperature\": 0.15,\n",
    "})\n",
    "tuner = PromptTuner(model=model)"
   ]
  },
  {
   "cell_type": "code",
   "execution_count": 3,
   "id": "2ef23eb2-0685-4afe-b0d6-0533fc7a9316",
   "metadata": {},
   "outputs": [],
   "source": [
    "from datasets import load_dataset\n",
    "\n",
    "sst2 = load_dataset(\"sst2\")\n",
    "n_instances = 20\n",
    "dataset = sst2['train']['sentence'][:n_instances]\n",
    "targets = sst2['train']['label'][:n_instances]"
   ]
  },
  {
   "cell_type": "code",
   "execution_count": 4,
   "id": "16256b61-ce12-4536-977e-0aed17a55529",
   "metadata": {},
   "outputs": [],
   "source": [
    "start_prompt = \"Please perform Sentiment Classification task.\""
   ]
  },
  {
   "cell_type": "code",
   "execution_count": 5,
   "id": "14fb251c-c3e7-40dc-8afa-ef70fb49b298",
   "metadata": {},
   "outputs": [
    {
     "name": "stderr",
     "output_type": "stream",
     "text": [
      "[2025-06-06 16:59:31,090] - Initializing population...\n"
     ]
    },
    {
     "data": {
      "application/vnd.jupyter.widget-view+json": {
       "model_id": "464be8534e8c4e159e73da553fe942e8",
       "version_major": 2,
       "version_minor": 0
      },
      "text/plain": [
       "Processed prompts:   0%|                                                   | 0/1 [00:00<?, ?it/s, est. speed i…"
      ]
     },
     "metadata": {},
     "output_type": "display_data"
    },
    {
     "name": "stderr",
     "output_type": "stream",
     "text": [
      "[2025-06-06 16:59:32,980] - Evaluating population...\n"
     ]
    },
    {
     "data": {
      "application/vnd.jupyter.widget-view+json": {
       "model_id": "6dfc8a1203fa4030a35a5df64ececdc8",
       "version_major": 2,
       "version_minor": 0
      },
      "text/plain": [
       "Processed prompts:   0%|                                                  | 0/15 [00:00<?, ?it/s, est. speed i…"
      ]
     },
     "metadata": {},
     "output_type": "display_data"
    },
    {
     "data": {
      "application/vnd.jupyter.widget-view+json": {
       "model_id": "22a6f4c784d643a3a2e4da0c91e48b68",
       "version_major": 2,
       "version_minor": 0
      },
      "text/plain": [
       "Processed prompts:   0%|                                                  | 0/15 [00:00<?, ?it/s, est. speed i…"
      ]
     },
     "metadata": {},
     "output_type": "display_data"
    },
    {
     "data": {
      "application/vnd.jupyter.widget-view+json": {
       "model_id": "2eb05c837b714c1caa74dff6152f1e34",
       "version_major": 2,
       "version_minor": 0
      },
      "text/plain": [
       "Processed prompts:   0%|                                                  | 0/15 [00:00<?, ?it/s, est. speed i…"
      ]
     },
     "metadata": {},
     "output_type": "display_data"
    },
    {
     "data": {
      "application/vnd.jupyter.widget-view+json": {
       "model_id": "890ce1e21d8f4dbdb5f6aaeab836e391",
       "version_major": 2,
       "version_minor": 0
      },
      "text/plain": [
       "Processed prompts:   0%|                                                  | 0/15 [00:00<?, ?it/s, est. speed i…"
      ]
     },
     "metadata": {},
     "output_type": "display_data"
    },
    {
     "data": {
      "application/vnd.jupyter.widget-view+json": {
       "model_id": "9b1dc798410148b5934ad0472aabde50",
       "version_major": 2,
       "version_minor": 0
      },
      "text/plain": [
       "Processed prompts:   0%|                                                  | 0/15 [00:00<?, ?it/s, est. speed i…"
      ]
     },
     "metadata": {},
     "output_type": "display_data"
    },
    {
     "data": {
      "application/vnd.jupyter.widget-view+json": {
       "model_id": "1adf89ff52564f5495b48ef3ac69475f",
       "version_major": 2,
       "version_minor": 0
      },
      "text/plain": [
       "Processed prompts:   0%|                                                   | 0/4 [00:00<?, ?it/s, est. speed i…"
      ]
     },
     "metadata": {},
     "output_type": "display_data"
    },
    {
     "data": {
      "application/vnd.jupyter.widget-view+json": {
       "model_id": "cf42d9ac34a5484494a99c0fd2ea552e",
       "version_major": 2,
       "version_minor": 0
      },
      "text/plain": [
       "Processed prompts:   0%|                                                   | 0/4 [00:00<?, ?it/s, est. speed i…"
      ]
     },
     "metadata": {},
     "output_type": "display_data"
    },
    {
     "name": "stderr",
     "output_type": "stream",
     "text": [
      "[2025-06-06 17:00:33,148] - Evaluating population...\n"
     ]
    },
    {
     "data": {
      "application/vnd.jupyter.widget-view+json": {
       "model_id": "b0c7cd3564dd486cb2b5e7bff875c2df",
       "version_major": 2,
       "version_minor": 0
      },
      "text/plain": [
       "Processed prompts:   0%|                                                  | 0/15 [00:00<?, ?it/s, est. speed i…"
      ]
     },
     "metadata": {},
     "output_type": "display_data"
    },
    {
     "data": {
      "application/vnd.jupyter.widget-view+json": {
       "model_id": "cd0b2e0704f04155a7407bfbf2ba6d73",
       "version_major": 2,
       "version_minor": 0
      },
      "text/plain": [
       "Processed prompts:   0%|                                                  | 0/15 [00:00<?, ?it/s, est. speed i…"
      ]
     },
     "metadata": {},
     "output_type": "display_data"
    },
    {
     "data": {
      "application/vnd.jupyter.widget-view+json": {
       "model_id": "2b4ead879b6f4d78aec5394d5417981d",
       "version_major": 2,
       "version_minor": 0
      },
      "text/plain": [
       "Processed prompts:   0%|                                                  | 0/15 [00:00<?, ?it/s, est. speed i…"
      ]
     },
     "metadata": {},
     "output_type": "display_data"
    },
    {
     "data": {
      "application/vnd.jupyter.widget-view+json": {
       "model_id": "2c95d6e4a7734a15ae310da597fee4ee",
       "version_major": 2,
       "version_minor": 0
      },
      "text/plain": [
       "Processed prompts:   0%|                                                  | 0/15 [00:00<?, ?it/s, est. speed i…"
      ]
     },
     "metadata": {},
     "output_type": "display_data"
    },
    {
     "name": "stderr",
     "output_type": "stream",
     "text": [
      "[2025-06-06 17:00:40,469] - Iteration 0\n",
      "                Elitist (0.8500000000000001):\n",
      "                Could you kindly assist me in performing the Sentiment Classification task? I would appreciate your help in crafting an effective prompt for this exercise. \n"
     ]
    },
    {
     "data": {
      "application/vnd.jupyter.widget-view+json": {
       "model_id": "fcedba4285834eb3862dba16e9d87272",
       "version_major": 2,
       "version_minor": 0
      },
      "text/plain": [
       "Processed prompts:   0%|                                                   | 0/1 [00:00<?, ?it/s, est. speed i…"
      ]
     },
     "metadata": {},
     "output_type": "display_data"
    },
    {
     "data": {
      "application/vnd.jupyter.widget-view+json": {
       "model_id": "cad7410ab1904757b2eb53226273aafc",
       "version_major": 2,
       "version_minor": 0
      },
      "text/plain": [
       "Processed prompts:   0%|                                                   | 0/4 [00:00<?, ?it/s, est. speed i…"
      ]
     },
     "metadata": {},
     "output_type": "display_data"
    },
    {
     "name": "stderr",
     "output_type": "stream",
     "text": [
      "[2025-06-06 17:00:42,608] - Evaluating population...\n"
     ]
    },
    {
     "data": {
      "application/vnd.jupyter.widget-view+json": {
       "model_id": "53fdc8cac0544285884e32b23b69700f",
       "version_major": 2,
       "version_minor": 0
      },
      "text/plain": [
       "Processed prompts:   0%|                                                  | 0/15 [00:00<?, ?it/s, est. speed i…"
      ]
     },
     "metadata": {},
     "output_type": "display_data"
    },
    {
     "data": {
      "application/vnd.jupyter.widget-view+json": {
       "model_id": "8fde07f1533d4a19a21d063128c682f7",
       "version_major": 2,
       "version_minor": 0
      },
      "text/plain": [
       "Processed prompts:   0%|                                                  | 0/15 [00:00<?, ?it/s, est. speed i…"
      ]
     },
     "metadata": {},
     "output_type": "display_data"
    },
    {
     "data": {
      "application/vnd.jupyter.widget-view+json": {
       "model_id": "d9cb680e96914f5bbb483654525fa5b3",
       "version_major": 2,
       "version_minor": 0
      },
      "text/plain": [
       "Processed prompts:   0%|                                                  | 0/15 [00:00<?, ?it/s, est. speed i…"
      ]
     },
     "metadata": {},
     "output_type": "display_data"
    },
    {
     "data": {
      "application/vnd.jupyter.widget-view+json": {
       "model_id": "89c952b62994488398c3e0c918c7b62c",
       "version_major": 2,
       "version_minor": 0
      },
      "text/plain": [
       "Processed prompts:   0%|                                                  | 0/15 [00:00<?, ?it/s, est. speed i…"
      ]
     },
     "metadata": {},
     "output_type": "display_data"
    },
    {
     "name": "stderr",
     "output_type": "stream",
     "text": [
      "[2025-06-06 17:00:50,301] - Iteration 0\n",
      "                Elitist (0.8500000000000001):\n",
      "                Could you kindly assist me in performing the Sentiment Classification task? I would appreciate your help in crafting an effective prompt for this exercise. \n",
      "[2025-06-06 17:00:50,302] - Iteration 0 finished...\n",
      "[2025-06-06 17:00:50,302] - Best score: 0.8500000000000001\n"
     ]
    },
    {
     "data": {
      "application/vnd.jupyter.widget-view+json": {
       "model_id": "cbf41989e0d749609853b63155fb8791",
       "version_major": 2,
       "version_minor": 0
      },
      "text/plain": [
       "Processed prompts:   0%|                                                   | 0/4 [00:00<?, ?it/s, est. speed i…"
      ]
     },
     "metadata": {},
     "output_type": "display_data"
    },
    {
     "data": {
      "application/vnd.jupyter.widget-view+json": {
       "model_id": "87afe8d1b02b49918423cf7dfdc86797",
       "version_major": 2,
       "version_minor": 0
      },
      "text/plain": [
       "Processed prompts:   0%|                                                   | 0/4 [00:00<?, ?it/s, est. speed i…"
      ]
     },
     "metadata": {},
     "output_type": "display_data"
    },
    {
     "name": "stderr",
     "output_type": "stream",
     "text": [
      "[2025-06-06 17:00:53,605] - Evaluating population...\n"
     ]
    },
    {
     "data": {
      "application/vnd.jupyter.widget-view+json": {
       "model_id": "43503b7e4d3a43e99b49ea057be88823",
       "version_major": 2,
       "version_minor": 0
      },
      "text/plain": [
       "Processed prompts:   0%|                                                  | 0/15 [00:00<?, ?it/s, est. speed i…"
      ]
     },
     "metadata": {},
     "output_type": "display_data"
    },
    {
     "data": {
      "application/vnd.jupyter.widget-view+json": {
       "model_id": "43a0b9bbbf6540e6b962c6967926cd2d",
       "version_major": 2,
       "version_minor": 0
      },
      "text/plain": [
       "Processed prompts:   0%|                                                  | 0/15 [00:00<?, ?it/s, est. speed i…"
      ]
     },
     "metadata": {},
     "output_type": "display_data"
    },
    {
     "data": {
      "application/vnd.jupyter.widget-view+json": {
       "model_id": "3bb3a6f38f4e4794838fcbe5b0518233",
       "version_major": 2,
       "version_minor": 0
      },
      "text/plain": [
       "Processed prompts:   0%|                                                  | 0/15 [00:00<?, ?it/s, est. speed i…"
      ]
     },
     "metadata": {},
     "output_type": "display_data"
    },
    {
     "data": {
      "application/vnd.jupyter.widget-view+json": {
       "model_id": "53ce966573c549bbb0e48c372ae55af8",
       "version_major": 2,
       "version_minor": 0
      },
      "text/plain": [
       "Processed prompts:   0%|                                                  | 0/15 [00:00<?, ?it/s, est. speed i…"
      ]
     },
     "metadata": {},
     "output_type": "display_data"
    },
    {
     "name": "stderr",
     "output_type": "stream",
     "text": [
      "[2025-06-06 17:00:55,858] - Iteration 1\n",
      "                Elitist (0.9282296650717703):\n",
      "                 Could you please help me with the Sentiment Classification task? I would appreciate it if you could provide a prompt that effectively solves this problem. \n"
     ]
    },
    {
     "data": {
      "application/vnd.jupyter.widget-view+json": {
       "model_id": "df0ac67ebacc44a6bda5498c34a00502",
       "version_major": 2,
       "version_minor": 0
      },
      "text/plain": [
       "Processed prompts:   0%|                                                   | 0/1 [00:00<?, ?it/s, est. speed i…"
      ]
     },
     "metadata": {},
     "output_type": "display_data"
    },
    {
     "data": {
      "application/vnd.jupyter.widget-view+json": {
       "model_id": "d7dbe6a5496b44f995d5a8e6ce366bee",
       "version_major": 2,
       "version_minor": 0
      },
      "text/plain": [
       "Processed prompts:   0%|                                                   | 0/4 [00:00<?, ?it/s, est. speed i…"
      ]
     },
     "metadata": {},
     "output_type": "display_data"
    },
    {
     "name": "stderr",
     "output_type": "stream",
     "text": [
      "[2025-06-06 17:01:07,153] - Evaluating population...\n"
     ]
    },
    {
     "data": {
      "application/vnd.jupyter.widget-view+json": {
       "model_id": "2d3ddbe2d07645ed83d62ae81443afd6",
       "version_major": 2,
       "version_minor": 0
      },
      "text/plain": [
       "Processed prompts:   0%|                                                  | 0/15 [00:00<?, ?it/s, est. speed i…"
      ]
     },
     "metadata": {},
     "output_type": "display_data"
    },
    {
     "data": {
      "application/vnd.jupyter.widget-view+json": {
       "model_id": "6797a2039faa4746b44dce3ac2057097",
       "version_major": 2,
       "version_minor": 0
      },
      "text/plain": [
       "Processed prompts:   0%|                                                  | 0/15 [00:00<?, ?it/s, est. speed i…"
      ]
     },
     "metadata": {},
     "output_type": "display_data"
    },
    {
     "data": {
      "application/vnd.jupyter.widget-view+json": {
       "model_id": "e6b19015311f4a64b0e457befcff77c2",
       "version_major": 2,
       "version_minor": 0
      },
      "text/plain": [
       "Processed prompts:   0%|                                                  | 0/15 [00:00<?, ?it/s, est. speed i…"
      ]
     },
     "metadata": {},
     "output_type": "display_data"
    },
    {
     "data": {
      "application/vnd.jupyter.widget-view+json": {
       "model_id": "88e6d80fe9eb4e1496be835c2b6d2262",
       "version_major": 2,
       "version_minor": 0
      },
      "text/plain": [
       "Processed prompts:   0%|                                                  | 0/15 [00:00<?, ?it/s, est. speed i…"
      ]
     },
     "metadata": {},
     "output_type": "display_data"
    },
    {
     "name": "stderr",
     "output_type": "stream",
     "text": [
      "[2025-06-06 17:01:27,992] - Iteration 1\n",
      "                Elitist (0.9282296650717703):\n",
      "                 Could you please help me with the Sentiment Classification task? I would appreciate it if you could provide a prompt that effectively solves this problem. \n",
      "[2025-06-06 17:01:27,993] - Iteration 1 finished...\n",
      "[2025-06-06 17:01:27,994] - Best score: 0.9282296650717703\n"
     ]
    },
    {
     "data": {
      "application/vnd.jupyter.widget-view+json": {
       "model_id": "b23b676bea0f4d83a01042c11372437e",
       "version_major": 2,
       "version_minor": 0
      },
      "text/plain": [
       "Processed prompts:   0%|                                                   | 0/4 [00:00<?, ?it/s, est. speed i…"
      ]
     },
     "metadata": {},
     "output_type": "display_data"
    },
    {
     "data": {
      "application/vnd.jupyter.widget-view+json": {
       "model_id": "198c55c691674ecca0446736b630f9e7",
       "version_major": 2,
       "version_minor": 0
      },
      "text/plain": [
       "Processed prompts:   0%|                                                   | 0/4 [00:00<?, ?it/s, est. speed i…"
      ]
     },
     "metadata": {},
     "output_type": "display_data"
    },
    {
     "name": "stderr",
     "output_type": "stream",
     "text": [
      "[2025-06-06 17:01:39,707] - Evaluating population...\n"
     ]
    },
    {
     "data": {
      "application/vnd.jupyter.widget-view+json": {
       "model_id": "fd064eaf52f4442b83db23c385f6f652",
       "version_major": 2,
       "version_minor": 0
      },
      "text/plain": [
       "Processed prompts:   0%|                                                  | 0/15 [00:00<?, ?it/s, est. speed i…"
      ]
     },
     "metadata": {},
     "output_type": "display_data"
    },
    {
     "data": {
      "application/vnd.jupyter.widget-view+json": {
       "model_id": "9d2c3cb8fe8f4f9e9fb7b92389176aa0",
       "version_major": 2,
       "version_minor": 0
      },
      "text/plain": [
       "Processed prompts:   0%|                                                  | 0/15 [00:00<?, ?it/s, est. speed i…"
      ]
     },
     "metadata": {},
     "output_type": "display_data"
    },
    {
     "data": {
      "application/vnd.jupyter.widget-view+json": {
       "model_id": "0c3671d5ebd5489c8cfd22211aaaeec9",
       "version_major": 2,
       "version_minor": 0
      },
      "text/plain": [
       "Processed prompts:   0%|                                                  | 0/15 [00:00<?, ?it/s, est. speed i…"
      ]
     },
     "metadata": {},
     "output_type": "display_data"
    },
    {
     "data": {
      "application/vnd.jupyter.widget-view+json": {
       "model_id": "ec1ac38690984473b9dd43ba36fbf1e0",
       "version_major": 2,
       "version_minor": 0
      },
      "text/plain": [
       "Processed prompts:   0%|                                                  | 0/15 [00:00<?, ?it/s, est. speed i…"
      ]
     },
     "metadata": {},
     "output_type": "display_data"
    },
    {
     "name": "stderr",
     "output_type": "stream",
     "text": [
      "[2025-06-06 17:01:58,634] - Iteration 2\n",
      "                Elitist (1.0):\n",
      "                 Could you please help me with the Sentiment Classification task? I would appreciate it if you could provide a prompt that effectively solves this problem. \n"
     ]
    },
    {
     "data": {
      "application/vnd.jupyter.widget-view+json": {
       "model_id": "dd52965cb2db4183a3e43c997d043afe",
       "version_major": 2,
       "version_minor": 0
      },
      "text/plain": [
       "Processed prompts:   0%|                                                   | 0/1 [00:00<?, ?it/s, est. speed i…"
      ]
     },
     "metadata": {},
     "output_type": "display_data"
    },
    {
     "data": {
      "application/vnd.jupyter.widget-view+json": {
       "model_id": "7392519ea7174d9286f1bcb20a9e8fca",
       "version_major": 2,
       "version_minor": 0
      },
      "text/plain": [
       "Processed prompts:   0%|                                                   | 0/4 [00:00<?, ?it/s, est. speed i…"
      ]
     },
     "metadata": {},
     "output_type": "display_data"
    },
    {
     "name": "stderr",
     "output_type": "stream",
     "text": [
      "[2025-06-06 17:02:00,815] - Evaluating population...\n"
     ]
    },
    {
     "data": {
      "application/vnd.jupyter.widget-view+json": {
       "model_id": "3e5ad717054d44dbb4017b4bdc43715c",
       "version_major": 2,
       "version_minor": 0
      },
      "text/plain": [
       "Processed prompts:   0%|                                                  | 0/15 [00:00<?, ?it/s, est. speed i…"
      ]
     },
     "metadata": {},
     "output_type": "display_data"
    },
    {
     "data": {
      "application/vnd.jupyter.widget-view+json": {
       "model_id": "46189f486c3c469c90d2b15677fd6270",
       "version_major": 2,
       "version_minor": 0
      },
      "text/plain": [
       "Processed prompts:   0%|                                                  | 0/15 [00:00<?, ?it/s, est. speed i…"
      ]
     },
     "metadata": {},
     "output_type": "display_data"
    },
    {
     "data": {
      "application/vnd.jupyter.widget-view+json": {
       "model_id": "926ffd4819ee41fc8597835e16b36220",
       "version_major": 2,
       "version_minor": 0
      },
      "text/plain": [
       "Processed prompts:   0%|                                                  | 0/15 [00:00<?, ?it/s, est. speed i…"
      ]
     },
     "metadata": {},
     "output_type": "display_data"
    },
    {
     "data": {
      "application/vnd.jupyter.widget-view+json": {
       "model_id": "55605ec62e4d4d389d74e2cf87956453",
       "version_major": 2,
       "version_minor": 0
      },
      "text/plain": [
       "Processed prompts:   0%|                                                  | 0/15 [00:00<?, ?it/s, est. speed i…"
      ]
     },
     "metadata": {},
     "output_type": "display_data"
    },
    {
     "name": "stderr",
     "output_type": "stream",
     "text": [
      "[2025-06-06 17:02:08,459] - Iteration 2\n",
      "                Elitist (1.0):\n",
      "                 Could you please help me with the Sentiment Classification task? I would appreciate it if you could provide a prompt that effectively solves this problem. \n",
      "[2025-06-06 17:02:08,461] - Iteration 2 finished...\n",
      "[2025-06-06 17:02:08,461] - Best score: 1.0\n",
      "[2025-06-06 17:02:08,462] - BEST SCORE: 1.0\n",
      "[2025-06-06 17:02:08,462] - BEST PROMPT:\n",
      " Could you please help me with the Sentiment Classification task? I would appreciate it if you could provide a prompt that effectively solves this problem. \n",
      "[2025-06-06 17:02:08,463] - Evaluating population...\n"
     ]
    },
    {
     "data": {
      "application/vnd.jupyter.widget-view+json": {
       "model_id": "cd5af86411744df89d14653bfe917962",
       "version_major": 2,
       "version_minor": 0
      },
      "text/plain": [
       "Processed prompts:   0%|                                                   | 0/5 [00:00<?, ?it/s, est. speed i…"
      ]
     },
     "metadata": {},
     "output_type": "display_data"
    },
    {
     "data": {
      "application/vnd.jupyter.widget-view+json": {
       "model_id": "aef904a85b8a4176aa8b660e18d1650d",
       "version_major": 2,
       "version_minor": 0
      },
      "text/plain": [
       "Processed prompts:   0%|                                                   | 0/5 [00:00<?, ?it/s, est. speed i…"
      ]
     },
     "metadata": {},
     "output_type": "display_data"
    },
    {
     "data": {
      "application/vnd.jupyter.widget-view+json": {
       "model_id": "a510a4ddc8b341bfa936965c9e82880c",
       "version_major": 2,
       "version_minor": 0
      },
      "text/plain": [
       "Processed prompts:   0%|                                                   | 0/5 [00:00<?, ?it/s, est. speed i…"
      ]
     },
     "metadata": {},
     "output_type": "display_data"
    },
    {
     "data": {
      "application/vnd.jupyter.widget-view+json": {
       "model_id": "401c5d28ac41438db2a810089f77068b",
       "version_major": 2,
       "version_minor": 0
      },
      "text/plain": [
       "Processed prompts:   0%|                                                   | 0/5 [00:00<?, ?it/s, est. speed i…"
      ]
     },
     "metadata": {},
     "output_type": "display_data"
    },
    {
     "name": "stderr",
     "output_type": "stream",
     "text": [
      "[2025-06-06 17:02:09,718] - Iteration 3\n",
      "                Elitist (1.0):\n",
      "                 Could you please help me with the Sentiment Classification task? I would appreciate it if you could provide a prompt that effectively solves this problem. \n"
     ]
    },
    {
     "data": {
      "application/vnd.jupyter.widget-view+json": {
       "model_id": "f5157364a8d545ef834d5739123eed4d",
       "version_major": 2,
       "version_minor": 0
      },
      "text/plain": [
       "Processed prompts:   0%|                                                  | 0/20 [00:00<?, ?it/s, est. speed i…"
      ]
     },
     "metadata": {},
     "output_type": "display_data"
    },
    {
     "data": {
      "application/vnd.jupyter.widget-view+json": {
       "model_id": "eda22bdb85604841a6c21523b4a46427",
       "version_major": 2,
       "version_minor": 0
      },
      "text/plain": [
       "Processed prompts:   0%|                                                  | 0/20 [00:00<?, ?it/s, est. speed i…"
      ]
     },
     "metadata": {},
     "output_type": "display_data"
    }
   ],
   "source": [
    "final_prompt = tuner.run(\n",
    "    start_prompt=start_prompt,\n",
    "    task='classification',\n",
    "    dataset=dataset,\n",
    "    target=targets,\n",
    "    method='reflective',\n",
    "    problem_description='sentiment classification',\n",
    "    use_cache=False,\n",
    "    population_size=4,\n",
    "    num_epochs=3\n",
    ")"
   ]
  },
  {
   "cell_type": "code",
   "execution_count": 6,
   "id": "789e4767-3ff2-43ce-9177-c08f3e6137c2",
   "metadata": {},
   "outputs": [
    {
     "name": "stdout",
     "output_type": "stream",
     "text": [
      "PROMPT:  Could you please help me with the Sentiment Classification task? I would appreciate it if you could provide a prompt that effectively solves this problem. \n"
     ]
    }
   ],
   "source": [
    "print(\"PROMPT:\", final_prompt)"
   ]
  },
  {
   "cell_type": "code",
   "execution_count": 7,
   "id": "51069d78-868f-42d2-92b5-0f8d8a405439",
   "metadata": {},
   "outputs": [
    {
     "name": "stdout",
     "output_type": "stream",
     "text": [
      "INITIAL METRIC: 0.3421052631578947\n"
     ]
    }
   ],
   "source": [
    "print(\"INITIAL METRIC:\", tuner.init_metric)"
   ]
  },
  {
   "cell_type": "code",
   "execution_count": 8,
   "id": "43c2bcbd-9fab-4ac6-9c2b-32b826a97bcf",
   "metadata": {},
   "outputs": [
    {
     "name": "stdout",
     "output_type": "stream",
     "text": [
      "FINAL METRIC: 0.8901098901098901\n"
     ]
    }
   ],
   "source": [
    "print(\"FINAL METRIC:\", tuner.final_metric)"
   ]
  },
  {
   "cell_type": "code",
   "execution_count": null,
   "id": "1ef17e57-7955-42c4-ae98-0c721006faf2",
   "metadata": {},
   "outputs": [],
   "source": []
  }
 ],
 "metadata": {
  "kernelspec": {
   "display_name": "Python 3 (ipykernel)",
   "language": "python",
   "name": "python3"
  },
  "language_info": {
   "codemirror_mode": {
    "name": "ipython",
    "version": 3
   },
   "file_extension": ".py",
   "mimetype": "text/x-python",
   "name": "python",
   "nbconvert_exporter": "python",
   "pygments_lexer": "ipython3",
   "version": "3.10.12"
  }
 },
 "nbformat": 4,
 "nbformat_minor": 5
}
