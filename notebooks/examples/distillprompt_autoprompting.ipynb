{
 "cells": [
  {
   "cell_type": "markdown",
   "id": "325c748b-8819-47c6-afff-6de025764b77",
   "metadata": {},
   "source": [
    "**To perform optimization, you need to initialize a model (or use already initialized)**"
   ]
  },
  {
   "cell_type": "code",
   "execution_count": 3,
   "id": "dd81425e-5380-4a3e-a896-2b48d3615ae6",
   "metadata": {},
   "outputs": [
    {
     "name": "stdout",
     "output_type": "stream",
     "text": [
      "INFO 06-27 06:13:18 __init__.py:207] Automatically detected platform cuda.\n",
      "WARNING 06-27 06:13:20 config.py:2448] Casting torch.bfloat16 to torch.float16.\n",
      "INFO 06-27 06:13:26 config.py:549] This model supports multiple tasks: {'generate', 'classify', 'embed', 'score', 'reward'}. Defaulting to 'generate'.\n",
      "INFO 06-27 06:13:26 llm_engine.py:234] Initializing a V0 LLM engine (v0.7.3) with config: model='t-tech/T-lite-it-1.0', speculative_config=None, tokenizer='t-tech/T-lite-it-1.0', skip_tokenizer_init=False, tokenizer_mode=auto, revision=None, override_neuron_config=None, tokenizer_revision=None, trust_remote_code=True, dtype=torch.float16, max_seq_len=32768, download_dir=None, load_format=LoadFormat.AUTO, tensor_parallel_size=1, pipeline_parallel_size=1, disable_custom_all_reduce=False, quantization=None, enforce_eager=False, kv_cache_dtype=auto,  device_config=cuda, decoding_config=DecodingConfig(guided_decoding_backend='xgrammar'), observability_config=ObservabilityConfig(otlp_traces_endpoint=None, collect_model_forward_time=False, collect_model_execute_time=False), seed=0, served_model_name=t-tech/T-lite-it-1.0, num_scheduler_steps=1, multi_step_stream_outputs=True, enable_prefix_caching=False, chunked_prefill_enabled=False, use_async_output_proc=True, disable_mm_preprocessor_cache=False, mm_processor_kwargs=None, pooler_config=None, compilation_config={\"splitting_ops\":[],\"compile_sizes\":[],\"cudagraph_capture_sizes\":[256,248,240,232,224,216,208,200,192,184,176,168,160,152,144,136,128,120,112,104,96,88,80,72,64,56,48,40,32,24,16,8,4,2,1],\"max_capture_size\":256}, use_cached_outputs=False, \n",
      "INFO 06-27 06:13:28 cuda.py:229] Using Flash Attention backend.\n",
      "INFO 06-27 06:13:29 model_runner.py:1110] Starting to load model t-tech/T-lite-it-1.0...\n",
      "INFO 06-27 06:13:29 weight_utils.py:254] Using model weights format ['*.safetensors']\n"
     ]
    },
    {
     "data": {
      "application/vnd.jupyter.widget-view+json": {
       "model_id": "9b9e6b0224374ce3b52d5d3b23578fba",
       "version_major": 2,
       "version_minor": 0
      },
      "text/plain": [
       "Loading safetensors checkpoint shards:   0% Completed | 0/4 [00:00<?, ?it/s]\n"
      ]
     },
     "metadata": {},
     "output_type": "display_data"
    },
    {
     "name": "stdout",
     "output_type": "stream",
     "text": [
      "INFO 06-27 06:13:35 model_runner.py:1115] Loading model weights took 14.2426 GB\n",
      "INFO 06-27 06:13:38 worker.py:267] Memory profiling takes 3.21 seconds\n",
      "INFO 06-27 06:13:38 worker.py:267] the current vLLM instance can use total_gpu_memory (79.15GiB) x gpu_memory_utilization (0.90) = 71.24GiB\n",
      "INFO 06-27 06:13:38 worker.py:267] model weights take 14.24GiB; non_torch_memory takes 0.09GiB; PyTorch activation peak memory takes 4.35GiB; the rest of the memory reserved for KV Cache is 52.55GiB.\n",
      "INFO 06-27 06:13:38 executor_base.py:111] # cuda blocks: 61497, # CPU blocks: 4681\n",
      "INFO 06-27 06:13:38 executor_base.py:116] Maximum concurrency for 32768 tokens per request: 30.03x\n",
      "INFO 06-27 06:13:42 model_runner.py:1434] Capturing cudagraphs for decoding. This may lead to unexpected consequences if the model is not static. To run the model in eager mode, set 'enforce_eager=True' or use '--enforce-eager' in the CLI. If out-of-memory error occurs during cudagraph capture, consider decreasing `gpu_memory_utilization` or switching to eager mode. You can also reduce the `max_num_seqs` as needed to decrease memory usage.\n"
     ]
    },
    {
     "name": "stderr",
     "output_type": "stream",
     "text": [
      "Capturing CUDA graph shapes: 100%|██████████| 35/35 [00:24<00:00,  1.45it/s]"
     ]
    },
    {
     "name": "stdout",
     "output_type": "stream",
     "text": [
      "INFO 06-27 06:14:06 model_runner.py:1562] Graph capturing finished in 24 secs, took 0.19 GiB\n",
      "INFO 06-27 06:14:06 llm_engine.py:436] init engine (profile, create kv cache, warmup model) took 31.69 seconds\n"
     ]
    },
    {
     "name": "stderr",
     "output_type": "stream",
     "text": [
      "\n"
     ]
    }
   ],
   "source": [
    "from coolprompt.language_model.llm import DefaultLLM\n",
    "\n",
    "model = DefaultLLM.init(langchain_config={\n",
    "    'max_new_tokens': 1000,\n",
    "    \"temperature\": 0.0,\n",
    "})\n"
   ]
  },
  {
   "cell_type": "markdown",
   "id": "e4cac6f0-a6e4-4f82-b2d4-1d9a6dc320d6",
   "metadata": {},
   "source": [
    "**Then you initialize the tuner itself, as well as the datasets used for optimization**"
   ]
  },
  {
   "cell_type": "code",
   "execution_count": 15,
   "id": "3736fc04-d0fc-4da6-a1a9-92d382b8d9d3",
   "metadata": {},
   "outputs": [],
   "source": [
    "from coolprompt.assistant import PromptTuner\n",
    "tuner = PromptTuner(model=model)"
   ]
  },
  {
   "cell_type": "code",
   "execution_count": 16,
   "id": "2ef23eb2-0685-4afe-b0d6-0533fc7a9316",
   "metadata": {},
   "outputs": [],
   "source": [
    "from datasets import load_dataset\n",
    "\n",
    "sst2 = load_dataset(\"sst2\")\n",
    "n_instances = 20\n",
    "dataset = sst2['train']['sentence'][:n_instances]\n",
    "targets = sst2['train']['label'][:n_instances]"
   ]
  },
  {
   "cell_type": "code",
   "execution_count": 17,
   "id": "16256b61-ce12-4536-977e-0aed17a55529",
   "metadata": {},
   "outputs": [],
   "source": [
    "start_prompt = \"Please perform Sentiment Classification task.\""
   ]
  },
  {
   "cell_type": "markdown",
   "id": "0801dfb3-134f-41af-a454-80ad82a44679",
   "metadata": {},
   "source": [
    "**Now the optimization, might take a while if your dataset is large**"
   ]
  },
  {
   "cell_type": "code",
   "execution_count": 18,
   "id": "14fb251c-c3e7-40dc-8afa-ef70fb49b298",
   "metadata": {},
   "outputs": [
    {
     "name": "stderr",
     "output_type": "stream",
     "text": [
      "[2025-06-27 06:18:39,629] - Starting DistillPrompt optimization...\n",
      "[2025-06-27 06:18:39,629] - Starting DistillPrompt optimization...\n",
      "INFO:Distiller:Starting DistillPrompt optimization...\n",
      "Processed prompts: 100%|██████████| 15/15 [00:12<00:00,  1.23it/s, est. speed input: 60.84 toks/s, output: 783.11 toks/s]\n",
      "[2025-06-27 06:18:51,811] - Starting round 0\n",
      "[2025-06-27 06:18:51,811] - Starting round 0\n",
      "INFO:Distiller:Starting round 0\n",
      "\n",
      "\u001b[Acessed prompts:   0%|          | 0/4 [00:00<?, ?it/s, est. speed input: 0.00 toks/s, output: 0.00 toks/s]\n",
      "\u001b[Acessed prompts:  25%|██▌       | 1/4 [00:00<00:00,  3.13it/s, est. speed input: 357.28 toks/s, output: 75.21 toks/s]\n",
      "\u001b[Acessed prompts:  50%|█████     | 2/4 [00:00<00:00,  4.05it/s, est. speed input: 442.07 toks/s, output: 126.02 toks/s]\n",
      "\u001b[Acessed prompts:  75%|███████▌  | 3/4 [00:00<00:00,  5.33it/s, est. speed input: 540.85 toks/s, output: 183.44 toks/s]\n",
      "Processed prompts: 100%|██████████| 4/4 [00:00<00:00,  5.42it/s, est. speed input: 618.42 toks/s, output: 238.68 toks/s]\n",
      "\n",
      "\u001b[Acessed prompts:   0%|          | 0/15 [00:00<?, ?it/s, est. speed input: 0.00 toks/s, output: 0.00 toks/s]\n",
      "\u001b[Acessed prompts:   7%|▋         | 1/15 [00:00<00:02,  6.18it/s, est. speed input: 414.03 toks/s, output: 49.43 toks/s]\n",
      "\u001b[Acessed prompts:  27%|██▋       | 4/15 [00:06<00:17,  1.63s/it, est. speed input: 46.94 toks/s, output: 85.32 toks/s] \n",
      "Processed prompts: 100%|██████████| 15/15 [00:12<00:00,  1.22it/s, est. speed input: 72.12 toks/s, output: 933.34 toks/s]\n",
      "\n",
      "\u001b[Acessed prompts:   0%|          | 0/15 [00:00<?, ?it/s, est. speed input: 0.00 toks/s, output: 0.00 toks/s]\n",
      "Processed prompts: 100%|██████████| 15/15 [00:00<00:00, 82.23it/s, est. speed input: 6279.04 toks/s, output: 658.03 toks/s]\n",
      "\n",
      "\u001b[Acessed prompts:   0%|          | 0/15 [00:00<?, ?it/s, est. speed input: 0.00 toks/s, output: 0.00 toks/s]\n",
      "\u001b[Acessed prompts:   7%|▋         | 1/15 [00:01<00:20,  1.45s/it, est. speed input: 60.62 toks/s, output: 75.78 toks/s]\n",
      "\u001b[Acessed prompts:  33%|███▎      | 5/15 [00:01<00:02,  4.00it/s, est. speed input: 283.86 toks/s, output: 354.66 toks/s]\n",
      "\u001b[Acessed prompts:  47%|████▋     | 7/15 [00:01<00:01,  5.09it/s, est. speed input: 354.19 toks/s, output: 457.10 toks/s]\n",
      "\u001b[Acessed prompts:  60%|██████    | 9/15 [00:02<00:01,  4.15it/s, est. speed input: 345.15 toks/s, output: 481.75 toks/s]\n",
      "\u001b[Acessed prompts:  67%|██████▋   | 10/15 [00:02<00:01,  3.52it/s, est. speed input: 322.66 toks/s, output: 486.71 toks/s]\n",
      "\u001b[Acessed prompts:  73%|███████▎  | 11/15 [00:03<00:01,  3.34it/s, est. speed input: 317.45 toks/s, output: 515.47 toks/s]\n",
      "\u001b[Acessed prompts:  80%|████████  | 12/15 [00:05<00:02,  1.31it/s, est. speed input: 206.34 toks/s, output: 389.99 toks/s]\n",
      "\u001b[Acessed prompts:  87%|████████▋ | 13/15 [00:07<00:02,  1.05s/it, est. speed input: 169.06 toks/s, output: 374.20 toks/s]\n",
      "Processed prompts: 100%|██████████| 15/15 [00:11<00:00,  1.27it/s, est. speed input: 121.00 toks/s, output: 403.53 toks/s]\n",
      "\n",
      "\u001b[Acessed prompts:   0%|          | 0/15 [00:00<?, ?it/s, est. speed input: 0.00 toks/s, output: 0.00 toks/s]\n",
      "\u001b[Acessed prompts:   7%|▋         | 1/15 [00:06<01:30,  6.47s/it, est. speed input: 12.68 toks/s, output: 79.96 toks/s]\n",
      "\u001b[Acessed prompts:  20%|██        | 3/15 [00:06<00:21,  1.80s/it, est. speed input: 37.49 toks/s, output: 233.03 toks/s]\n",
      "\u001b[Acessed prompts:  33%|███▎      | 5/15 [00:06<00:09,  1.08it/s, est. speed input: 60.29 toks/s, output: 384.90 toks/s]\n",
      "\u001b[Acessed prompts:  47%|████▋     | 7/15 [00:07<00:04,  1.70it/s, est. speed input: 81.46 toks/s, output: 528.90 toks/s]\n",
      "\u001b[Acessed prompts:  53%|█████▎    | 8/15 [00:07<00:03,  1.97it/s, est. speed input: 89.67 toks/s, output: 592.18 toks/s]\n",
      "\u001b[Acessed prompts:  60%|██████    | 9/15 [00:08<00:03,  1.55it/s, est. speed input: 91.09 toks/s, output: 599.63 toks/s]\n",
      "\u001b[Acessed prompts:  67%|██████▋   | 10/15 [00:08<00:02,  1.94it/s, est. speed input: 99.00 toks/s, output: 669.66 toks/s]\n",
      "\u001b[Acessed prompts:  73%|███████▎  | 11/15 [00:08<00:01,  2.27it/s, est. speed input: 105.21 toks/s, output: 732.75 toks/s]\n",
      "\u001b[Acessed prompts:  80%|████████  | 12/15 [00:09<00:01,  2.04it/s, est. speed input: 106.34 toks/s, output: 766.41 toks/s]\n",
      "Processed prompts: 100%|██████████| 15/15 [00:12<00:00,  1.23it/s, est. speed input: 106.40 toks/s, output: 830.75 toks/s]\n",
      "\n",
      "\u001b[Acessed prompts:   0%|          | 0/4 [00:00<?, ?it/s, est. speed input: 0.00 toks/s, output: 0.00 toks/s]\n",
      "\u001b[Acessed prompts:  25%|██▌       | 1/4 [00:01<00:03,  1.33s/it, est. speed input: 171.28 toks/s, output: 80.74 toks/s]\n",
      "\u001b[Acessed prompts:  50%|█████     | 2/4 [00:03<00:03,  1.98s/it, est. speed input: 130.64 toks/s, output: 112.58 toks/s]\n",
      "\u001b[Acessed prompts:  75%|███████▌  | 3/4 [00:04<00:01,  1.31s/it, est. speed input: 177.94 toks/s, output: 183.56 toks/s]\n",
      "Processed prompts: 100%|██████████| 4/4 [00:11<00:00,  2.93s/it, est. speed input: 90.57 toks/s, output: 152.43 toks/s] \n",
      "\n",
      "\u001b[Acessed prompts:   0%|          | 0/15 [00:00<?, ?it/s, est. speed input: 0.00 toks/s, output: 0.00 toks/s]\n",
      "\u001b[Acessed prompts:   7%|▋         | 1/15 [00:00<00:02,  5.80it/s, est. speed input: 487.51 toks/s, output: 46.42 toks/s]\n",
      "Processed prompts: 100%|██████████| 15/15 [00:12<00:00,  1.21it/s, est. speed input: 76.46 toks/s, output: 1047.65 toks/s]\n",
      "\n",
      "\u001b[Acessed prompts:   0%|          | 0/15 [00:00<?, ?it/s, est. speed input: 0.00 toks/s, output: 0.00 toks/s]\n",
      "\u001b[Acessed prompts:   7%|▋         | 1/15 [00:00<00:13,  1.07it/s, est. speed input: 444.94 toks/s, output: 8.56 toks/s]\n",
      "\u001b[Acessed prompts:  20%|██        | 3/15 [00:01<00:04,  2.99it/s, est. speed input: 1035.15 toks/s, output: 37.18 toks/s]\n",
      "\u001b[Acessed prompts:  27%|██▋       | 4/15 [00:01<00:02,  3.76it/s, est. speed input: 1227.27 toks/s, output: 62.92 toks/s]\n",
      "\u001b[Acessed prompts:  40%|████      | 6/15 [00:01<00:01,  5.68it/s, est. speed input: 1616.40 toks/s, output: 118.76 toks/s]\n",
      "Processed prompts: 100%|██████████| 15/15 [00:12<00:00,  1.17it/s, est. speed input: 463.76 toks/s, output: 570.12 toks/s]\n",
      "\n",
      "\u001b[Acessed prompts:   0%|          | 0/15 [00:00<?, ?it/s, est. speed input: 0.00 toks/s, output: 0.00 toks/s]\n",
      "\u001b[Acessed prompts:   7%|▋         | 1/15 [00:01<00:18,  1.32s/it, est. speed input: 102.97 toks/s, output: 71.93 toks/s]\n",
      "\u001b[Acessed prompts:  40%|████      | 6/15 [00:01<00:01,  5.51it/s, est. speed input: 598.43 toks/s, output: 406.87 toks/s]\n",
      "\u001b[Acessed prompts:  67%|██████▋   | 10/15 [00:01<00:00,  9.62it/s, est. speed input: 928.28 toks/s, output: 660.26 toks/s]\n",
      "Processed prompts: 100%|██████████| 15/15 [00:05<00:00,  2.79it/s, est. speed input: 408.81 toks/s, output: 515.53 toks/s]\n",
      "\n",
      "\u001b[Acessed prompts:   0%|          | 0/15 [00:00<?, ?it/s, est. speed input: 0.00 toks/s, output: 0.00 toks/s]\n",
      "\u001b[Acessed prompts:   7%|▋         | 1/15 [00:04<01:00,  4.29s/it, est. speed input: 47.55 toks/s, output: 76.92 toks/s]\n",
      "\u001b[Acessed prompts:  13%|█▎        | 2/15 [00:04<00:24,  1.90s/it, est. speed input: 89.26 toks/s, output: 150.17 toks/s]\n",
      "\u001b[Acessed prompts:  27%|██▋       | 4/15 [00:04<00:08,  1.32it/s, est. speed input: 173.67 toks/s, output: 298.88 toks/s]\n",
      "\u001b[Acessed prompts:  40%|████      | 6/15 [00:04<00:04,  2.23it/s, est. speed input: 249.71 toks/s, output: 437.46 toks/s]\n",
      "\u001b[Acessed prompts:  67%|██████▋   | 10/15 [00:04<00:01,  4.81it/s, est. speed input: 411.35 toks/s, output: 733.18 toks/s]\n",
      "\u001b[Acessed prompts:  87%|████████▋ | 13/15 [00:05<00:00,  6.69it/s, est. speed input: 527.81 toks/s, output: 939.07 toks/s]\n",
      "Processed prompts: 100%|██████████| 15/15 [00:11<00:00,  1.36it/s, est. speed input: 285.25 toks/s, output: 573.32 toks/s]\n",
      "\n",
      "\u001b[Acessed prompts:   0%|          | 0/4 [00:00<?, ?it/s, est. speed input: 0.00 toks/s, output: 0.00 toks/s]\n",
      "\u001b[Acessed prompts:  25%|██▌       | 1/4 [00:00<00:01,  1.77it/s, est. speed input: 789.86 toks/s, output: 74.21 toks/s]\n",
      "\u001b[Acessed prompts:  50%|█████     | 2/4 [00:00<00:00,  3.31it/s, est. speed input: 943.49 toks/s, output: 137.50 toks/s]\n",
      "\u001b[Acessed prompts:  75%|███████▌  | 3/4 [00:01<00:00,  3.03it/s, est. speed input: 866.30 toks/s, output: 169.24 toks/s]\n",
      "Processed prompts: 100%|██████████| 4/4 [00:11<00:00,  2.93s/it, est. speed input: 87.16 toks/s, output: 100.48 toks/s] \n",
      "\n",
      "\u001b[Acessed prompts:   0%|          | 0/15 [00:00<?, ?it/s, est. speed input: 0.00 toks/s, output: 0.00 toks/s]\n",
      "\u001b[Acessed prompts:   7%|▋         | 1/15 [00:07<01:38,  7.05s/it, est. speed input: 8.66 toks/s, output: 80.32 toks/s]\n",
      "Processed prompts: 100%|██████████| 15/15 [00:12<00:00,  1.16it/s, est. speed input: 70.28 toks/s, output: 1131.19 toks/s]\n",
      "\n",
      "\u001b[Acessed prompts:   0%|          | 0/15 [00:00<?, ?it/s, est. speed input: 0.00 toks/s, output: 0.00 toks/s]\n",
      "\u001b[Acessed prompts:   7%|▋         | 1/15 [00:00<00:08,  1.70it/s, est. speed input: 118.97 toks/s, output: 69.68 toks/s]\n",
      "\u001b[Acessed prompts:  13%|█▎        | 2/15 [00:00<00:04,  3.04it/s, est. speed input: 190.41 toks/s, output: 127.84 toks/s]\n",
      "\u001b[Acessed prompts:  27%|██▋       | 4/15 [00:00<00:01,  5.68it/s, est. speed input: 310.21 toks/s, output: 239.55 toks/s]\n",
      "Processed prompts: 100%|██████████| 15/15 [00:12<00:00,  1.21it/s, est. speed input: 93.92 toks/s, output: 908.21 toks/s]\n",
      "\n",
      "\u001b[Acessed prompts:   0%|          | 0/15 [00:00<?, ?it/s, est. speed input: 0.00 toks/s, output: 0.00 toks/s]\n",
      "\u001b[Acessed prompts:   7%|▋         | 1/15 [00:00<00:09,  1.53it/s, est. speed input: 136.50 toks/s, output: 69.01 toks/s]\n",
      "\u001b[Acessed prompts:  13%|█▎        | 2/15 [00:01<00:09,  1.37it/s, est. speed input: 127.78 toks/s, output: 107.53 toks/s]\n",
      "\u001b[Acessed prompts:  47%|████▋     | 7/15 [00:05<00:05,  1.35it/s, est. speed input: 120.92 toks/s, output: 199.46 toks/s]\n",
      "\u001b[Acessed prompts:  53%|█████▎    | 8/15 [00:05<00:05,  1.40it/s, est. speed input: 122.43 toks/s, output: 259.99 toks/s]\n",
      "\u001b[Acessed prompts:  60%|██████    | 9/15 [00:07<00:05,  1.18it/s, est. speed input: 114.67 toks/s, output: 292.73 toks/s]\n",
      "\u001b[Acessed prompts:  67%|██████▋   | 10/15 [00:07<00:03,  1.47it/s, est. speed input: 123.72 toks/s, output: 370.06 toks/s]\n",
      "\u001b[Acessed prompts:  80%|████████  | 12/15 [00:07<00:01,  2.23it/s, est. speed input: 143.71 toks/s, output: 522.81 toks/s]\n",
      "\u001b[Acessed prompts:  87%|████████▋ | 13/15 [00:07<00:00,  2.19it/s, est. speed input: 148.50 toks/s, output: 573.00 toks/s]\n",
      "\u001b[Acessed prompts:  93%|█████████▎| 14/15 [00:09<00:00,  1.63it/s, est. speed input: 139.41 toks/s, output: 585.72 toks/s]\n",
      "Processed prompts: 100%|██████████| 15/15 [00:11<00:00,  1.26it/s, est. speed input: 112.32 toks/s, output: 526.13 toks/s]\n",
      "\n",
      "\u001b[Acessed prompts:   0%|          | 0/15 [00:00<?, ?it/s, est. speed input: 0.00 toks/s, output: 0.00 toks/s]\n",
      "\u001b[Acessed prompts:   7%|▋         | 1/15 [00:00<00:03,  4.48it/s, est. speed input: 524.50 toks/s, output: 35.86 toks/s]\n",
      "Processed prompts: 100%|██████████| 15/15 [00:11<00:00,  1.28it/s, est. speed input: 151.76 toks/s, output: 264.71 toks/s]\n",
      "\n",
      "\u001b[Acessed prompts:   0%|          | 0/1 [00:00<?, ?it/s, est. speed input: 0.00 toks/s, output: 0.00 toks/s]\n",
      "Processed prompts: 100%|██████████| 1/1 [00:01<00:00,  1.20s/it, est. speed input: 229.28 toks/s, output: 83.68 toks/s]\n",
      "\n",
      "\u001b[Acessed prompts:   0%|          | 0/15 [00:00<?, ?it/s, est. speed input: 0.00 toks/s, output: 0.00 toks/s]\n",
      "\u001b[Acessed prompts:   7%|▋         | 1/15 [00:02<00:39,  2.83s/it, est. speed input: 44.95 toks/s, output: 77.51 toks/s]\n",
      "\u001b[Acessed prompts:  13%|█▎        | 2/15 [00:04<00:30,  2.36s/it, est. speed input: 52.40 toks/s, output: 123.91 toks/s]\n",
      "\u001b[Acessed prompts:  20%|██        | 3/15 [00:05<00:20,  1.71s/it, est. speed input: 66.99 toks/s, output: 183.07 toks/s]\n",
      "\u001b[Acessed prompts:  27%|██▋       | 4/15 [00:05<00:12,  1.10s/it, est. speed input: 90.99 toks/s, output: 257.38 toks/s]\n",
      "\u001b[Acessed prompts:  33%|███▎      | 5/15 [00:06<00:08,  1.18it/s, est. speed input: 105.00 toks/s, output: 320.82 toks/s]\n",
      "\u001b[Acessed prompts:  40%|████      | 6/15 [00:07<00:07,  1.24it/s, est. speed input: 113.50 toks/s, output: 367.73 toks/s]\n",
      "\u001b[Acessed prompts:  53%|█████▎    | 8/15 [00:08<00:04,  1.45it/s, est. speed input: 132.74 toks/s, output: 465.85 toks/s]\n",
      "\u001b[Acessed prompts:  67%|██████▋   | 10/15 [00:08<00:02,  2.33it/s, est. speed input: 162.71 toks/s, output: 618.47 toks/s]\n",
      "\u001b[Acessed prompts:  73%|███████▎  | 11/15 [00:08<00:01,  2.38it/s, est. speed input: 170.55 toks/s, output: 671.20 toks/s]\n",
      "\u001b[Acessed prompts:  87%|████████▋ | 13/15 [00:09<00:00,  3.09it/s, est. speed input: 194.01 toks/s, output: 804.01 toks/s]\n",
      "\u001b[Acessed prompts:  93%|█████████▎| 14/15 [00:09<00:00,  3.41it/s, est. speed input: 205.20 toks/s, output: 868.48 toks/s]\n",
      "Processed prompts: 100%|██████████| 15/15 [00:10<00:00,  1.46it/s, est. speed input: 197.58 toks/s, output: 864.79 toks/s]\n",
      "\n",
      "\u001b[Acessed prompts:   0%|          | 0/3 [00:00<?, ?it/s, est. speed input: 0.00 toks/s, output: 0.00 toks/s]\n",
      "\u001b[Acessed prompts:  33%|███▎      | 1/3 [00:01<00:02,  1.18s/it, est. speed input: 93.05 toks/s, output: 84.59 toks/s]\n",
      "\u001b[Acessed prompts:  67%|██████▋   | 2/3 [00:03<00:01,  1.83s/it, est. speed input: 63.43 toks/s, output: 114.47 toks/s]\n",
      "Processed prompts: 100%|██████████| 3/3 [00:03<00:00,  1.25s/it, est. speed input: 87.79 toks/s, output: 191.27 toks/s]\n",
      "\n",
      "\u001b[Acessed prompts:   0%|          | 0/15 [00:00<?, ?it/s, est. speed input: 0.00 toks/s, output: 0.00 toks/s]\n",
      "\u001b[Acessed prompts:   7%|▋         | 1/15 [00:02<00:38,  2.75s/it, est. speed input: 58.94 toks/s, output: 77.13 toks/s]\n",
      "\u001b[Acessed prompts:  13%|█▎        | 2/15 [00:03<00:22,  1.71s/it, est. speed input: 82.46 toks/s, output: 134.94 toks/s]\n",
      "\u001b[Acessed prompts:  20%|██        | 3/15 [00:04<00:13,  1.14s/it, est. speed input: 107.12 toks/s, output: 198.74 toks/s]\n",
      "\u001b[Acessed prompts:  33%|███▎      | 5/15 [00:04<00:06,  1.59it/s, est. speed input: 160.85 toks/s, output: 329.19 toks/s]\n",
      "\u001b[Acessed prompts:  40%|████      | 6/15 [00:04<00:04,  1.98it/s, est. speed input: 184.99 toks/s, output: 394.84 toks/s]\n",
      "\u001b[Acessed prompts:  53%|█████▎    | 8/15 [00:05<00:03,  2.27it/s, est. speed input: 208.71 toks/s, output: 492.89 toks/s]\n",
      "\u001b[Acessed prompts:  60%|██████    | 9/15 [00:05<00:02,  2.65it/s, est. speed input: 226.00 toks/s, output: 557.37 toks/s]\n",
      "\u001b[Acessed prompts:  67%|██████▋   | 10/15 [00:05<00:01,  3.13it/s, est. speed input: 243.42 toks/s, output: 622.73 toks/s]\n",
      "\u001b[Acessed prompts:  73%|███████▎  | 11/15 [00:06<00:01,  3.73it/s, est. speed input: 260.67 toks/s, output: 689.33 toks/s]\n",
      "Processed prompts: 100%|██████████| 15/15 [00:06<00:00,  2.37it/s, est. speed input: 334.62 toks/s, output: 976.55 toks/s]\n",
      "\n",
      "\u001b[Acessed prompts:   0%|          | 0/15 [00:00<?, ?it/s, est. speed input: 0.00 toks/s, output: 0.00 toks/s]\n",
      "\u001b[Acessed prompts:   7%|▋         | 1/15 [00:02<00:32,  2.33s/it, est. speed input: 145.67 toks/s, output: 68.75 toks/s]\n",
      "Processed prompts: 100%|██████████| 15/15 [00:12<00:00,  1.16it/s, est. speed input: 392.00 toks/s, output: 1093.73 toks/s]\n",
      "\n",
      "\u001b[Acessed prompts:   0%|          | 0/15 [00:00<?, ?it/s, est. speed input: 0.00 toks/s, output: 0.00 toks/s]\n",
      "\u001b[Acessed prompts:   7%|▋         | 1/15 [00:01<00:20,  1.44s/it, est. speed input: 255.25 toks/s, output: 59.65 toks/s]\n",
      "\u001b[Acessed prompts:  40%|████      | 6/15 [00:01<00:02,  4.10it/s, est. speed input: 1183.91 toks/s, output: 313.00 toks/s]\n",
      "\u001b[Acessed prompts:  60%|██████    | 9/15 [00:02<00:00,  6.07it/s, est. speed input: 1642.05 toks/s, output: 472.51 toks/s]\n",
      "\u001b[Acessed prompts:  73%|███████▎  | 11/15 [00:02<00:00,  5.60it/s, est. speed input: 1655.13 toks/s, output: 527.38 toks/s]\n",
      "\u001b[Acessed prompts:  87%|████████▋ | 13/15 [00:02<00:00,  6.73it/s, est. speed input: 1838.03 toks/s, output: 633.88 toks/s]\n",
      "Processed prompts: 100%|██████████| 15/15 [00:03<00:00,  3.86it/s, est. speed input: 1404.11 toks/s, output: 543.35 toks/s]\n",
      "[2025-06-27 06:22:01,643] - Best candidate score in round 0: 0.9282296650717703\n",
      "[2025-06-27 06:22:01,643] - Best candidate score in round 0: 0.9282296650717703\n",
      "INFO:Distiller:Best candidate score in round 0: 0.9282296650717703\n",
      "[2025-06-27 06:22:01,644] - Best candidate prompt: Perform a sentiment classification task by analyzing the sentiment of the given text as either positive, negative, or neutral. Ensure that your analysis is clear, focused, and accurate.\n",
      "[2025-06-27 06:22:01,644] - Best candidate prompt: Perform a sentiment classification task by analyzing the sentiment of the given text as either positive, negative, or neutral. Ensure that your analysis is clear, focused, and accurate.\n",
      "INFO:Distiller:Best candidate prompt: Perform a sentiment classification task by analyzing the sentiment of the given text as either positive, negative, or neutral. Ensure that your analysis is clear, focused, and accurate.\n",
      "100%|██████████| 1/1 [03:09<00:00, 189.85s/it]\n",
      "Processed prompts: 100%|██████████| 5/5 [00:00<00:00, 39.21it/s, est. speed input: 2800.64 toks/s, output: 313.77 toks/s]\n",
      "[2025-06-27 06:22:01,794] - Final best prompt score on validation: 1.0\n",
      "[2025-06-27 06:22:01,794] - Final best prompt score on validation: 1.0\n",
      "INFO:Distiller:Final best prompt score on validation: 1.0\n",
      "[2025-06-27 06:22:01,795] - Final best prompt: Perform a sentiment classification task by analyzing the sentiment of the given text as either positive, negative, or neutral. Ensure that your analysis is clear, focused, and accurate.\n",
      "[2025-06-27 06:22:01,795] - Final best prompt: Perform a sentiment classification task by analyzing the sentiment of the given text as either positive, negative, or neutral. Ensure that your analysis is clear, focused, and accurate.\n",
      "INFO:Distiller:Final best prompt: Perform a sentiment classification task by analyzing the sentiment of the given text as either positive, negative, or neutral. Ensure that your analysis is clear, focused, and accurate.\n",
      "Processed prompts: 100%|██████████| 20/20 [00:12<00:00,  1.62it/s, est. speed input: 77.95 toks/s, output: 1003.66 toks/s]\n",
      "Processed prompts: 100%|██████████| 20/20 [00:00<00:00, 93.39it/s, est. speed input: 7015.78 toks/s, output: 747.32 toks/s]\n"
     ]
    }
   ],
   "source": [
    "final_prompt = tuner.run(\n",
    "    start_prompt=start_prompt,\n",
    "    task='classification',\n",
    "    dataset=dataset,\n",
    "    target=targets,\n",
    "    method='distill',\n",
    "    use_cache=True,\n",
    "    num_epochs=1\n",
    ")"
   ]
  },
  {
   "cell_type": "code",
   "execution_count": 19,
   "id": "789e4767-3ff2-43ce-9177-c08f3e6137c2",
   "metadata": {},
   "outputs": [
    {
     "name": "stdout",
     "output_type": "stream",
     "text": [
      "PROMPT: Perform a sentiment classification task by analyzing the sentiment of the given text as either positive, negative, or neutral. Ensure that your analysis is clear, focused, and accurate.\n"
     ]
    }
   ],
   "source": [
    "print(\"PROMPT:\", final_prompt)"
   ]
  },
  {
   "cell_type": "code",
   "execution_count": 20,
   "id": "51069d78-868f-42d2-92b5-0f8d8a405439",
   "metadata": {},
   "outputs": [
    {
     "name": "stdout",
     "output_type": "stream",
     "text": [
      "INITIAL METRIC: 0.375\n"
     ]
    }
   ],
   "source": [
    "print(\"INITIAL METRIC:\", tuner.init_metric)"
   ]
  },
  {
   "cell_type": "code",
   "execution_count": 21,
   "id": "43c2bcbd-9fab-4ac6-9c2b-32b826a97bcf",
   "metadata": {},
   "outputs": [
    {
     "name": "stdout",
     "output_type": "stream",
     "text": [
      "FINAL METRIC: 0.9466666666666667\n"
     ]
    }
   ],
   "source": [
    "print(\"FINAL METRIC:\", tuner.final_metric)"
   ]
  },
  {
   "cell_type": "markdown",
   "id": "36681e36-74dd-47a5-8ef7-35268f7a1f42",
   "metadata": {},
   "source": [
    "**Prompts are also saved inside tuner**"
   ]
  },
  {
   "cell_type": "code",
   "execution_count": 22,
   "id": "be3b2333-876b-4d05-823a-dc91ba2a11e6",
   "metadata": {},
   "outputs": [
    {
     "name": "stdout",
     "output_type": "stream",
     "text": [
      "INITIAL PROMPT: Please perform Sentiment Classification task.\n"
     ]
    }
   ],
   "source": [
    "print(\"INITIAL PROMPT:\", tuner.init_prompt)"
   ]
  },
  {
   "cell_type": "code",
   "execution_count": 23,
   "id": "bff82a3a-bed2-400c-a266-90d1f31434e8",
   "metadata": {},
   "outputs": [
    {
     "name": "stdout",
     "output_type": "stream",
     "text": [
      "FINAL PROMPT: Perform a sentiment classification task by analyzing the sentiment of the given text as either positive, negative, or neutral. Ensure that your analysis is clear, focused, and accurate.\n"
     ]
    }
   ],
   "source": [
    "print(\"FINAL PROMPT:\", tuner.final_prompt)"
   ]
  },
  {
   "cell_type": "code",
   "execution_count": null,
   "id": "c7f3d0d7-83c3-405f-941a-25f0374fbc58",
   "metadata": {},
   "outputs": [],
   "source": []
  }
 ],
 "metadata": {
  "kernelspec": {
   "display_name": "coolprompt-env",
   "language": "python",
   "name": "coolprompt-env"
  },
  "language_info": {
   "codemirror_mode": {
    "name": "ipython",
    "version": 3
   },
   "file_extension": ".py",
   "mimetype": "text/x-python",
   "name": "python",
   "nbconvert_exporter": "python",
   "pygments_lexer": "ipython3",
   "version": "3.11.11"
  }
 },
 "nbformat": 4,
 "nbformat_minor": 5
}
