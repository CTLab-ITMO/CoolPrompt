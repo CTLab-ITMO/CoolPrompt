{
 "cells": [
  {
   "cell_type": "code",
   "execution_count": 1,
   "id": "d59a86f7-c56c-4e48-a82f-e85f593a13fb",
   "metadata": {},
   "outputs": [],
   "source": [
    "import sys\n",
    "import os\n",
    "project_root = os.path.abspath(os.path.join(os.getcwd(), \"../../\"))\n",
    "sys.path.append(project_root)\n",
    "\n"
   ]
  },
  {
   "cell_type": "code",
   "execution_count": 3,
   "id": "dd81425e-5380-4a3e-a896-2b48d3615ae6",
   "metadata": {},
   "outputs": [
    {
     "name": "stdout",
     "output_type": "stream",
     "text": [
      "INFO 06-23 13:10:59 __init__.py:207] Automatically detected platform cuda.\n",
      "WARNING 06-23 13:11:00 config.py:2448] Casting torch.bfloat16 to torch.float16.\n",
      "INFO 06-23 13:11:07 config.py:549] This model supports multiple tasks: {'reward', 'generate', 'classify', 'score', 'embed'}. Defaulting to 'generate'.\n",
      "INFO 06-23 13:11:07 llm_engine.py:234] Initializing a V0 LLM engine (v0.7.3) with config: model='t-tech/T-lite-it-1.0', speculative_config=None, tokenizer='t-tech/T-lite-it-1.0', skip_tokenizer_init=False, tokenizer_mode=auto, revision=None, override_neuron_config=None, tokenizer_revision=None, trust_remote_code=True, dtype=torch.float16, max_seq_len=32768, download_dir=None, load_format=LoadFormat.AUTO, tensor_parallel_size=1, pipeline_parallel_size=1, disable_custom_all_reduce=False, quantization=None, enforce_eager=False, kv_cache_dtype=auto,  device_config=cuda, decoding_config=DecodingConfig(guided_decoding_backend='xgrammar'), observability_config=ObservabilityConfig(otlp_traces_endpoint=None, collect_model_forward_time=False, collect_model_execute_time=False), seed=0, served_model_name=t-tech/T-lite-it-1.0, num_scheduler_steps=1, multi_step_stream_outputs=True, enable_prefix_caching=False, chunked_prefill_enabled=False, use_async_output_proc=True, disable_mm_preprocessor_cache=False, mm_processor_kwargs=None, pooler_config=None, compilation_config={\"splitting_ops\":[],\"compile_sizes\":[],\"cudagraph_capture_sizes\":[256,248,240,232,224,216,208,200,192,184,176,168,160,152,144,136,128,120,112,104,96,88,80,72,64,56,48,40,32,24,16,8,4,2,1],\"max_capture_size\":256}, use_cached_outputs=False, \n",
      "INFO 06-23 13:11:10 cuda.py:229] Using Flash Attention backend.\n",
      "INFO 06-23 13:11:11 model_runner.py:1110] Starting to load model t-tech/T-lite-it-1.0...\n",
      "INFO 06-23 13:11:11 weight_utils.py:254] Using model weights format ['*.safetensors']\n"
     ]
    },
    {
     "data": {
      "application/vnd.jupyter.widget-view+json": {
       "model_id": "3dd03beaa6db49ad8d04c6a057447ac4",
       "version_major": 2,
       "version_minor": 0
      },
      "text/plain": [
       "Loading safetensors checkpoint shards:   0% Completed | 0/4 [00:00<?, ?it/s]\n"
      ]
     },
     "metadata": {},
     "output_type": "display_data"
    },
    {
     "name": "stdout",
     "output_type": "stream",
     "text": [
      "INFO 06-23 13:11:17 model_runner.py:1115] Loading model weights took 14.2426 GB\n",
      "INFO 06-23 13:11:20 worker.py:267] Memory profiling takes 2.42 seconds\n",
      "INFO 06-23 13:11:20 worker.py:267] the current vLLM instance can use total_gpu_memory (79.15GiB) x gpu_memory_utilization (0.90) = 71.24GiB\n",
      "INFO 06-23 13:11:20 worker.py:267] model weights take 14.24GiB; non_torch_memory takes 0.09GiB; PyTorch activation peak memory takes 4.35GiB; the rest of the memory reserved for KV Cache is 52.55GiB.\n",
      "INFO 06-23 13:11:20 executor_base.py:111] # cuda blocks: 61497, # CPU blocks: 4681\n",
      "INFO 06-23 13:11:20 executor_base.py:116] Maximum concurrency for 32768 tokens per request: 30.03x\n",
      "INFO 06-23 13:11:24 model_runner.py:1434] Capturing cudagraphs for decoding. This may lead to unexpected consequences if the model is not static. To run the model in eager mode, set 'enforce_eager=True' or use '--enforce-eager' in the CLI. If out-of-memory error occurs during cudagraph capture, consider decreasing `gpu_memory_utilization` or switching to eager mode. You can also reduce the `max_num_seqs` as needed to decrease memory usage.\n"
     ]
    },
    {
     "name": "stderr",
     "output_type": "stream",
     "text": [
      "Capturing CUDA graph shapes: 100%|██████████| 35/35 [00:24<00:00,  1.40it/s]"
     ]
    },
    {
     "name": "stdout",
     "output_type": "stream",
     "text": [
      "INFO 06-23 13:11:49 model_runner.py:1562] Graph capturing finished in 25 secs, took 0.19 GiB\n",
      "INFO 06-23 13:11:49 llm_engine.py:436] init engine (profile, create kv cache, warmup model) took 32.48 seconds\n"
     ]
    },
    {
     "name": "stderr",
     "output_type": "stream",
     "text": [
      "\n"
     ]
    }
   ],
   "source": [
    "from coolprompt.language_model.llm import DefaultLLM\n",
    "\n",
    "model = DefaultLLM.init(langchain_config={\n",
    "    'max_new_tokens': 1000,\n",
    "    \"temperature\": 0.0,\n",
    "})\n"
   ]
  },
  {
   "cell_type": "code",
   "execution_count": 4,
   "id": "3736fc04-d0fc-4da6-a1a9-92d382b8d9d3",
   "metadata": {},
   "outputs": [],
   "source": [
    "from coolprompt.assistant import PromptTuner\n",
    "tuner = PromptTuner(model=model)"
   ]
  },
  {
   "cell_type": "code",
   "execution_count": 5,
   "id": "2ef23eb2-0685-4afe-b0d6-0533fc7a9316",
   "metadata": {},
   "outputs": [],
   "source": [
    "from datasets import load_dataset\n",
    "\n",
    "sst2 = load_dataset(\"sst2\")\n",
    "n_instances = 20\n",
    "dataset = sst2['train']['sentence'][:n_instances]\n",
    "targets = sst2['train']['label'][:n_instances]"
   ]
  },
  {
   "cell_type": "code",
   "execution_count": 6,
   "id": "16256b61-ce12-4536-977e-0aed17a55529",
   "metadata": {},
   "outputs": [],
   "source": [
    "start_prompt = \"Please perform Sentiment Classification task.\""
   ]
  },
  {
   "cell_type": "code",
   "execution_count": 11,
   "id": "14fb251c-c3e7-40dc-8afa-ef70fb49b298",
   "metadata": {},
   "outputs": [
    {
     "name": "stderr",
     "output_type": "stream",
     "text": [
      "[2025-06-23 13:17:13,069] - Starting DistillPrompt optimization...\n",
      "[2025-06-23 13:17:13,069] - Starting DistillPrompt optimization...\n",
      "INFO:Distiller:Starting DistillPrompt optimization...\n",
      "Processed prompts: 100%|██████████| 15/15 [00:12<00:00,  1.24it/s, est. speed input: 61.04 toks/s, output: 785.71 toks/s]\n",
      "[2025-06-23 13:17:25,209] - Starting round 0\n",
      "[2025-06-23 13:17:25,209] - Starting round 0\n",
      "INFO:Distiller:Starting round 0\n",
      "\n",
      "\u001b[Acessed prompts:   0%|          | 0/4 [00:00<?, ?it/s, est. speed input: 0.00 toks/s, output: 0.00 toks/s]\n",
      "\u001b[Acessed prompts:  25%|██▌       | 1/4 [00:00<00:00,  3.14it/s, est. speed input: 358.22 toks/s, output: 75.41 toks/s]\n",
      "\u001b[Acessed prompts:  50%|█████     | 2/4 [00:00<00:00,  4.05it/s, est. speed input: 442.72 toks/s, output: 126.21 toks/s]\n",
      "\u001b[Acessed prompts:  75%|███████▌  | 3/4 [00:00<00:00,  5.34it/s, est. speed input: 541.47 toks/s, output: 183.65 toks/s]\n",
      "Processed prompts: 100%|██████████| 4/4 [00:00<00:00,  5.42it/s, est. speed input: 618.98 toks/s, output: 238.90 toks/s]\n",
      "\n",
      "\u001b[Acessed prompts:   0%|          | 0/15 [00:00<?, ?it/s, est. speed input: 0.00 toks/s, output: 0.00 toks/s]\n",
      "\u001b[Acessed prompts:   7%|▋         | 1/15 [00:00<00:02,  6.25it/s, est. speed input: 418.52 toks/s, output: 49.97 toks/s]\n",
      "\u001b[Acessed prompts:  27%|██▋       | 4/15 [00:06<00:17,  1.63s/it, est. speed input: 46.97 toks/s, output: 85.36 toks/s] \n",
      "Processed prompts: 100%|██████████| 15/15 [00:12<00:00,  1.21it/s, est. speed input: 71.96 toks/s, output: 931.33 toks/s]\n",
      "\n",
      "\u001b[Acessed prompts:   0%|          | 0/15 [00:00<?, ?it/s, est. speed input: 0.00 toks/s, output: 0.00 toks/s]\n",
      "Processed prompts: 100%|██████████| 15/15 [00:00<00:00, 81.47it/s, est. speed input: 6234.32 toks/s, output: 653.31 toks/s]\n",
      "\n",
      "\u001b[Acessed prompts:   0%|          | 0/15 [00:00<?, ?it/s, est. speed input: 0.00 toks/s, output: 0.00 toks/s]\n",
      "\u001b[Acessed prompts:   7%|▋         | 1/15 [00:01<00:20,  1.47s/it, est. speed input: 59.95 toks/s, output: 74.93 toks/s]\n",
      "\u001b[Acessed prompts:  33%|███▎      | 5/15 [00:01<00:02,  3.96it/s, est. speed input: 280.64 toks/s, output: 350.64 toks/s]\n",
      "\u001b[Acessed prompts:  47%|████▋     | 7/15 [00:01<00:01,  5.04it/s, est. speed input: 350.44 toks/s, output: 452.27 toks/s]\n",
      "\u001b[Acessed prompts:  60%|██████    | 9/15 [00:02<00:01,  4.12it/s, est. speed input: 342.02 toks/s, output: 477.39 toks/s]\n",
      "\u001b[Acessed prompts:  67%|██████▋   | 10/15 [00:02<00:01,  3.50it/s, est. speed input: 320.20 toks/s, output: 483.00 toks/s]\n",
      "\u001b[Acessed prompts:  73%|███████▎  | 11/15 [00:03<00:01,  3.33it/s, est. speed input: 315.27 toks/s, output: 511.93 toks/s]\n",
      "\u001b[Acessed prompts:  80%|████████  | 12/15 [00:05<00:02,  1.31it/s, est. speed input: 205.54 toks/s, output: 388.47 toks/s]\n",
      "\u001b[Acessed prompts:  87%|████████▋ | 13/15 [00:07<00:02,  1.05s/it, est. speed input: 168.49 toks/s, output: 372.94 toks/s]\n",
      "Processed prompts: 100%|██████████| 15/15 [00:11<00:00,  1.27it/s, est. speed input: 120.73 toks/s, output: 402.63 toks/s]\n",
      "\n",
      "\u001b[Acessed prompts:   0%|          | 0/15 [00:00<?, ?it/s, est. speed input: 0.00 toks/s, output: 0.00 toks/s]\n",
      "\u001b[Acessed prompts:   7%|▋         | 1/15 [00:06<01:30,  6.46s/it, est. speed input: 12.69 toks/s, output: 80.03 toks/s]\n",
      "\u001b[Acessed prompts:  20%|██        | 3/15 [00:06<00:21,  1.80s/it, est. speed input: 37.52 toks/s, output: 233.23 toks/s]\n",
      "\u001b[Acessed prompts:  33%|███▎      | 5/15 [00:06<00:09,  1.08it/s, est. speed input: 60.34 toks/s, output: 385.20 toks/s]\n",
      "\u001b[Acessed prompts:  47%|████▋     | 7/15 [00:07<00:04,  1.70it/s, est. speed input: 81.52 toks/s, output: 529.26 toks/s]\n",
      "\u001b[Acessed prompts:  53%|█████▎    | 8/15 [00:07<00:03,  1.97it/s, est. speed input: 89.72 toks/s, output: 592.55 toks/s]\n",
      "\u001b[Acessed prompts:  60%|██████    | 9/15 [00:08<00:03,  1.55it/s, est. speed input: 91.11 toks/s, output: 599.77 toks/s]\n",
      "\u001b[Acessed prompts:  67%|██████▋   | 10/15 [00:08<00:02,  1.94it/s, est. speed input: 99.02 toks/s, output: 669.81 toks/s]\n",
      "\u001b[Acessed prompts:  73%|███████▎  | 11/15 [00:08<00:01,  2.27it/s, est. speed input: 105.22 toks/s, output: 732.83 toks/s]\n",
      "\u001b[Acessed prompts:  80%|████████  | 12/15 [00:09<00:01,  2.04it/s, est. speed input: 106.34 toks/s, output: 766.45 toks/s]\n",
      "Processed prompts: 100%|██████████| 15/15 [00:12<00:00,  1.23it/s, est. speed input: 106.43 toks/s, output: 830.94 toks/s]\n",
      "\n",
      "\u001b[Acessed prompts:   0%|          | 0/4 [00:00<?, ?it/s, est. speed input: 0.00 toks/s, output: 0.00 toks/s]\n",
      "\u001b[Acessed prompts:  25%|██▌       | 1/4 [00:01<00:03,  1.32s/it, est. speed input: 171.37 toks/s, output: 80.78 toks/s]\n",
      "\u001b[Acessed prompts:  50%|█████     | 2/4 [00:03<00:03,  1.98s/it, est. speed input: 130.55 toks/s, output: 112.50 toks/s]\n",
      "\u001b[Acessed prompts:  75%|███████▌  | 3/4 [00:04<00:01,  1.31s/it, est. speed input: 177.81 toks/s, output: 183.42 toks/s]\n",
      "Processed prompts: 100%|██████████| 4/4 [00:11<00:00,  2.93s/it, est. speed input: 90.54 toks/s, output: 152.37 toks/s] \n",
      "\n",
      "\u001b[Acessed prompts:   0%|          | 0/15 [00:00<?, ?it/s, est. speed input: 0.00 toks/s, output: 0.00 toks/s]\n",
      "\u001b[Acessed prompts:   7%|▋         | 1/15 [00:00<00:02,  5.78it/s, est. speed input: 485.79 toks/s, output: 46.26 toks/s]\n",
      "Processed prompts: 100%|██████████| 15/15 [00:12<00:00,  1.21it/s, est. speed input: 76.50 toks/s, output: 1048.13 toks/s]\n",
      "\n",
      "\u001b[Acessed prompts:   0%|          | 0/15 [00:00<?, ?it/s, est. speed input: 0.00 toks/s, output: 0.00 toks/s]\n",
      "\u001b[Acessed prompts:   7%|▋         | 1/15 [00:01<00:16,  1.16s/it, est. speed input: 358.17 toks/s, output: 6.89 toks/s]\n",
      "\u001b[Acessed prompts:  20%|██        | 3/15 [00:01<00:04,  2.55it/s, est. speed input: 869.66 toks/s, output: 31.24 toks/s]\n",
      "\u001b[Acessed prompts:  27%|██▋       | 4/15 [00:01<00:03,  3.29it/s, est. speed input: 1048.39 toks/s, output: 53.75 toks/s]\n",
      "\u001b[Acessed prompts:  40%|████      | 6/15 [00:01<00:01,  5.12it/s, est. speed input: 1404.31 toks/s, output: 103.18 toks/s]\n",
      "Processed prompts: 100%|██████████| 15/15 [00:13<00:00,  1.15it/s, est. speed input: 454.71 toks/s, output: 559.00 toks/s]\n",
      "\n",
      "\u001b[Acessed prompts:   0%|          | 0/15 [00:00<?, ?it/s, est. speed input: 0.00 toks/s, output: 0.00 toks/s]\n",
      "\u001b[Acessed prompts:   7%|▋         | 1/15 [00:01<00:18,  1.32s/it, est. speed input: 103.12 toks/s, output: 72.03 toks/s]\n",
      "\u001b[Acessed prompts:  40%|████      | 6/15 [00:01<00:01,  5.52it/s, est. speed input: 599.13 toks/s, output: 407.35 toks/s]\n",
      "\u001b[Acessed prompts:  67%|██████▋   | 10/15 [00:01<00:00,  9.62it/s, est. speed input: 929.01 toks/s, output: 660.78 toks/s]\n",
      "Processed prompts: 100%|██████████| 15/15 [00:05<00:00,  2.79it/s, est. speed input: 408.95 toks/s, output: 515.70 toks/s]\n",
      "\n",
      "\u001b[Acessed prompts:   0%|          | 0/15 [00:00<?, ?it/s, est. speed input: 0.00 toks/s, output: 0.00 toks/s]\n",
      "\u001b[Acessed prompts:   7%|▋         | 1/15 [00:04<01:00,  4.29s/it, est. speed input: 47.56 toks/s, output: 76.94 toks/s]\n",
      "\u001b[Acessed prompts:  13%|█▎        | 2/15 [00:04<00:24,  1.90s/it, est. speed input: 89.28 toks/s, output: 150.21 toks/s]\n",
      "\u001b[Acessed prompts:  20%|██        | 3/15 [00:04<00:12,  1.08s/it, est. speed input: 131.11 toks/s, output: 224.07 toks/s]\n",
      "\u001b[Acessed prompts:  40%|████      | 6/15 [00:04<00:03,  2.37it/s, est. speed input: 249.73 toks/s, output: 437.48 toks/s]\n",
      "\u001b[Acessed prompts:  67%|██████▋   | 10/15 [00:04<00:01,  4.92it/s, est. speed input: 411.31 toks/s, output: 733.11 toks/s]\n",
      "\u001b[Acessed prompts:  87%|████████▋ | 13/15 [00:05<00:00,  6.77it/s, est. speed input: 527.71 toks/s, output: 938.90 toks/s]\n",
      "Processed prompts: 100%|██████████| 15/15 [00:11<00:00,  1.36it/s, est. speed input: 285.14 toks/s, output: 573.10 toks/s]\n",
      "\n",
      "\u001b[Acessed prompts:   0%|          | 0/4 [00:00<?, ?it/s, est. speed input: 0.00 toks/s, output: 0.00 toks/s]\n",
      "\u001b[Acessed prompts:  25%|██▌       | 1/4 [00:00<00:01,  1.77it/s, est. speed input: 790.24 toks/s, output: 74.25 toks/s]\n",
      "\u001b[Acessed prompts:  50%|█████     | 2/4 [00:00<00:00,  3.31it/s, est. speed input: 943.96 toks/s, output: 137.57 toks/s]\n",
      "\u001b[Acessed prompts:  75%|███████▌  | 3/4 [00:01<00:00,  3.03it/s, est. speed input: 866.61 toks/s, output: 169.30 toks/s]\n",
      "Processed prompts: 100%|██████████| 4/4 [00:11<00:00,  2.93s/it, est. speed input: 87.12 toks/s, output: 100.44 toks/s] \n",
      "\n",
      "\u001b[Acessed prompts:   0%|          | 0/15 [00:00<?, ?it/s, est. speed input: 0.00 toks/s, output: 0.00 toks/s]\n",
      "\u001b[Acessed prompts:   7%|▋         | 1/15 [00:07<01:39,  7.12s/it, est. speed input: 8.57 toks/s, output: 79.53 toks/s]\n",
      "Processed prompts: 100%|██████████| 15/15 [00:12<00:00,  1.19it/s, est. speed input: 71.81 toks/s, output: 1155.81 toks/s]\n",
      "\n",
      "\u001b[Acessed prompts:   0%|          | 0/15 [00:00<?, ?it/s, est. speed input: 0.00 toks/s, output: 0.00 toks/s]\n",
      "\u001b[Acessed prompts:   7%|▋         | 1/15 [00:00<00:08,  1.70it/s, est. speed input: 118.81 toks/s, output: 69.59 toks/s]\n",
      "\u001b[Acessed prompts:  13%|█▎        | 2/15 [00:00<00:04,  3.03it/s, est. speed input: 189.84 toks/s, output: 127.46 toks/s]\n",
      "\u001b[Acessed prompts:  27%|██▋       | 4/15 [00:00<00:01,  5.66it/s, est. speed input: 309.24 toks/s, output: 238.80 toks/s]\n",
      "Processed prompts: 100%|██████████| 15/15 [00:12<00:00,  1.21it/s, est. speed input: 93.33 toks/s, output: 902.48 toks/s]\n",
      "\n",
      "\u001b[Acessed prompts:   0%|          | 0/15 [00:00<?, ?it/s, est. speed input: 0.00 toks/s, output: 0.00 toks/s]\n",
      "\u001b[Acessed prompts:   7%|▋         | 1/15 [00:00<00:09,  1.53it/s, est. speed input: 135.96 toks/s, output: 68.74 toks/s]\n",
      "\u001b[Acessed prompts:  13%|█▎        | 2/15 [00:01<00:09,  1.37it/s, est. speed input: 126.98 toks/s, output: 106.86 toks/s]\n",
      "\u001b[Acessed prompts:  47%|████▋     | 7/15 [00:05<00:05,  1.35it/s, est. speed input: 120.51 toks/s, output: 198.79 toks/s]\n",
      "\u001b[Acessed prompts:  53%|█████▎    | 8/15 [00:05<00:05,  1.40it/s, est. speed input: 122.06 toks/s, output: 259.20 toks/s]\n",
      "\u001b[Acessed prompts:  60%|██████    | 9/15 [00:07<00:05,  1.18it/s, est. speed input: 114.40 toks/s, output: 292.03 toks/s]\n",
      "\u001b[Acessed prompts:  67%|██████▋   | 10/15 [00:07<00:03,  1.47it/s, est. speed input: 123.43 toks/s, output: 369.17 toks/s]\n",
      "\u001b[Acessed prompts:  80%|████████  | 12/15 [00:07<00:01,  2.23it/s, est. speed input: 143.38 toks/s, output: 521.62 toks/s]\n",
      "\u001b[Acessed prompts:  87%|████████▋ | 13/15 [00:07<00:00,  2.19it/s, est. speed input: 148.19 toks/s, output: 571.81 toks/s]\n",
      "\u001b[Acessed prompts:  93%|█████████▎| 14/15 [00:09<00:00,  1.63it/s, est. speed input: 139.15 toks/s, output: 584.64 toks/s]\n",
      "Processed prompts: 100%|██████████| 15/15 [00:11<00:00,  1.26it/s, est. speed input: 112.17 toks/s, output: 525.45 toks/s]\n",
      "\n",
      "\u001b[Acessed prompts:   0%|          | 0/15 [00:00<?, ?it/s, est. speed input: 0.00 toks/s, output: 0.00 toks/s]\n",
      "\u001b[Acessed prompts:   7%|▋         | 1/15 [00:00<00:03,  4.43it/s, est. speed input: 518.06 toks/s, output: 35.42 toks/s]\n",
      "Processed prompts: 100%|██████████| 15/15 [00:11<00:00,  1.28it/s, est. speed input: 151.78 toks/s, output: 264.74 toks/s]\n",
      "\n",
      "\u001b[Acessed prompts:   0%|          | 0/1 [00:00<?, ?it/s, est. speed input: 0.00 toks/s, output: 0.00 toks/s]\n",
      "Processed prompts: 100%|██████████| 1/1 [00:01<00:00,  1.19s/it, est. speed input: 229.59 toks/s, output: 83.79 toks/s]\n",
      "\n",
      "\u001b[Acessed prompts:   0%|          | 0/15 [00:00<?, ?it/s, est. speed input: 0.00 toks/s, output: 0.00 toks/s]\n",
      "\u001b[Acessed prompts:   7%|▋         | 1/15 [00:02<00:39,  2.83s/it, est. speed input: 44.89 toks/s, output: 77.41 toks/s]\n",
      "\u001b[Acessed prompts:  13%|█▎        | 2/15 [00:04<00:30,  2.37s/it, est. speed input: 52.32 toks/s, output: 123.71 toks/s]\n",
      "\u001b[Acessed prompts:  20%|██        | 3/15 [00:05<00:20,  1.72s/it, est. speed input: 66.82 toks/s, output: 182.59 toks/s]\n",
      "\u001b[Acessed prompts:  27%|██▋       | 4/15 [00:05<00:12,  1.11s/it, est. speed input: 90.72 toks/s, output: 256.63 toks/s]\n",
      "\u001b[Acessed prompts:  33%|███▎      | 5/15 [00:06<00:08,  1.18it/s, est. speed input: 104.67 toks/s, output: 319.82 toks/s]\n",
      "\u001b[Acessed prompts:  40%|████      | 6/15 [00:07<00:07,  1.24it/s, est. speed input: 113.09 toks/s, output: 366.43 toks/s]\n",
      "\u001b[Acessed prompts:  53%|█████▎    | 8/15 [00:08<00:04,  1.44it/s, est. speed input: 132.17 toks/s, output: 463.86 toks/s]\n",
      "\u001b[Acessed prompts:  67%|██████▋   | 10/15 [00:08<00:02,  2.32it/s, est. speed input: 162.02 toks/s, output: 615.83 toks/s]\n",
      "\u001b[Acessed prompts:  73%|███████▎  | 11/15 [00:08<00:01,  2.37it/s, est. speed input: 169.80 toks/s, output: 668.24 toks/s]\n",
      "\u001b[Acessed prompts:  87%|████████▋ | 13/15 [00:09<00:00,  3.07it/s, est. speed input: 193.17 toks/s, output: 800.51 toks/s]\n",
      "\u001b[Acessed prompts:  93%|█████████▎| 14/15 [00:09<00:00,  3.38it/s, est. speed input: 204.27 toks/s, output: 864.56 toks/s]\n",
      "Processed prompts: 100%|██████████| 15/15 [00:10<00:00,  1.45it/s, est. speed input: 196.62 toks/s, output: 860.59 toks/s]\n",
      "\n",
      "\u001b[Acessed prompts:   0%|          | 0/3 [00:00<?, ?it/s, est. speed input: 0.00 toks/s, output: 0.00 toks/s]\n",
      "\u001b[Acessed prompts:  33%|███▎      | 1/3 [00:01<00:02,  1.19s/it, est. speed input: 92.14 toks/s, output: 83.77 toks/s]\n",
      "\u001b[Acessed prompts:  67%|██████▋   | 2/3 [00:03<00:01,  1.84s/it, est. speed input: 63.08 toks/s, output: 113.84 toks/s]\n",
      "Processed prompts: 100%|██████████| 3/3 [00:03<00:00,  1.26s/it, est. speed input: 87.34 toks/s, output: 190.29 toks/s]\n",
      "\n",
      "\u001b[Acessed prompts:   0%|          | 0/15 [00:00<?, ?it/s, est. speed input: 0.00 toks/s, output: 0.00 toks/s]\n",
      "\u001b[Acessed prompts:   7%|▋         | 1/15 [00:02<00:38,  2.77s/it, est. speed input: 58.50 toks/s, output: 76.55 toks/s]\n",
      "\u001b[Acessed prompts:  13%|█▎        | 2/15 [00:03<00:22,  1.72s/it, est. speed input: 81.90 toks/s, output: 134.01 toks/s]\n",
      "\u001b[Acessed prompts:  20%|██        | 3/15 [00:04<00:13,  1.15s/it, est. speed input: 106.44 toks/s, output: 197.47 toks/s]\n",
      "\u001b[Acessed prompts:  33%|███▎      | 5/15 [00:04<00:06,  1.58it/s, est. speed input: 159.81 toks/s, output: 327.07 toks/s]\n",
      "\u001b[Acessed prompts:  40%|████      | 6/15 [00:04<00:04,  1.97it/s, est. speed input: 183.82 toks/s, output: 392.36 toks/s]\n",
      "\u001b[Acessed prompts:  53%|█████▎    | 8/15 [00:05<00:03,  2.26it/s, est. speed input: 207.48 toks/s, output: 489.99 toks/s]\n",
      "\u001b[Acessed prompts:  60%|██████    | 9/15 [00:05<00:02,  2.64it/s, est. speed input: 224.68 toks/s, output: 554.13 toks/s]\n",
      "\u001b[Acessed prompts:  67%|██████▋   | 10/15 [00:05<00:01,  3.12it/s, est. speed input: 242.00 toks/s, output: 619.09 toks/s]\n",
      "\u001b[Acessed prompts:  73%|███████▎  | 11/15 [00:06<00:01,  3.71it/s, est. speed input: 259.16 toks/s, output: 685.34 toks/s]\n",
      "Processed prompts: 100%|██████████| 15/15 [00:06<00:00,  2.35it/s, est. speed input: 332.74 toks/s, output: 971.08 toks/s]\n",
      "\n",
      "\u001b[Acessed prompts:   0%|          | 0/15 [00:00<?, ?it/s, est. speed input: 0.00 toks/s, output: 0.00 toks/s]\n",
      "\u001b[Acessed prompts:   7%|▋         | 1/15 [00:02<00:32,  2.33s/it, est. speed input: 145.24 toks/s, output: 68.55 toks/s]\n",
      "Processed prompts: 100%|██████████| 15/15 [00:12<00:00,  1.16it/s, est. speed input: 391.45 toks/s, output: 1092.21 toks/s]\n",
      "\n",
      "\u001b[Acessed prompts:   0%|          | 0/15 [00:00<?, ?it/s, est. speed input: 0.00 toks/s, output: 0.00 toks/s]\n",
      "\u001b[Acessed prompts:   7%|▋         | 1/15 [00:01<00:20,  1.44s/it, est. speed input: 255.14 toks/s, output: 59.63 toks/s]\n",
      "\u001b[Acessed prompts:  40%|████      | 6/15 [00:01<00:02,  4.10it/s, est. speed input: 1183.17 toks/s, output: 312.80 toks/s]\n",
      "\u001b[Acessed prompts:  60%|██████    | 9/15 [00:02<00:00,  6.07it/s, est. speed input: 1640.95 toks/s, output: 472.19 toks/s]\n",
      "\u001b[Acessed prompts:  73%|███████▎  | 11/15 [00:02<00:00,  5.60it/s, est. speed input: 1655.07 toks/s, output: 527.36 toks/s]\n",
      "\u001b[Acessed prompts:  87%|████████▋ | 13/15 [00:02<00:00,  6.73it/s, est. speed input: 1837.96 toks/s, output: 633.86 toks/s]\n",
      "Processed prompts: 100%|██████████| 15/15 [00:03<00:00,  3.86it/s, est. speed input: 1403.81 toks/s, output: 543.23 toks/s]\n",
      "[2025-06-23 13:20:35,672] - Best candidate score in round 0: 0.9282296650717703\n",
      "[2025-06-23 13:20:35,672] - Best candidate score in round 0: 0.9282296650717703\n",
      "INFO:Distiller:Best candidate score in round 0: 0.9282296650717703\n",
      "[2025-06-23 13:20:35,672] - Best candidate prompt: Perform a sentiment classification task by analyzing the sentiment of the given text as either positive, negative, or neutral. Ensure that your analysis is clear, focused, and accurate.\n",
      "[2025-06-23 13:20:35,672] - Best candidate prompt: Perform a sentiment classification task by analyzing the sentiment of the given text as either positive, negative, or neutral. Ensure that your analysis is clear, focused, and accurate.\n",
      "INFO:Distiller:Best candidate prompt: Perform a sentiment classification task by analyzing the sentiment of the given text as either positive, negative, or neutral. Ensure that your analysis is clear, focused, and accurate.\n",
      "100%|██████████| 1/1 [03:10<00:00, 190.47s/it]\n",
      "Processed prompts: 100%|██████████| 5/5 [00:00<00:00, 39.13it/s, est. speed input: 2795.23 toks/s, output: 313.17 toks/s]\n",
      "[2025-06-23 13:20:35,819] - Final best prompt score on validation: 1.0\n",
      "[2025-06-23 13:20:35,819] - Final best prompt score on validation: 1.0\n",
      "INFO:Distiller:Final best prompt score on validation: 1.0\n",
      "[2025-06-23 13:20:35,819] - Final best prompt: Perform a sentiment classification task by analyzing the sentiment of the given text as either positive, negative, or neutral. Ensure that your analysis is clear, focused, and accurate.\n",
      "[2025-06-23 13:20:35,819] - Final best prompt: Perform a sentiment classification task by analyzing the sentiment of the given text as either positive, negative, or neutral. Ensure that your analysis is clear, focused, and accurate.\n",
      "INFO:Distiller:Final best prompt: Perform a sentiment classification task by analyzing the sentiment of the given text as either positive, negative, or neutral. Ensure that your analysis is clear, focused, and accurate.\n",
      "Processed prompts: 100%|██████████| 20/20 [00:12<00:00,  1.61it/s, est. speed input: 77.66 toks/s, output: 999.94 toks/s] \n",
      "Processed prompts: 100%|██████████| 20/20 [00:00<00:00, 93.26it/s, est. speed input: 7006.28 toks/s, output: 746.31 toks/s]\n"
     ]
    }
   ],
   "source": [
    "final_prompt = tuner.run(\n",
    "    start_prompt=start_prompt,\n",
    "    task='classification',\n",
    "    dataset=dataset,\n",
    "    target=targets,\n",
    "    method='distill',\n",
    "    use_cache=True,\n",
    "    num_epochs=1\n",
    ")"
   ]
  },
  {
   "cell_type": "code",
   "execution_count": 12,
   "id": "789e4767-3ff2-43ce-9177-c08f3e6137c2",
   "metadata": {},
   "outputs": [
    {
     "name": "stdout",
     "output_type": "stream",
     "text": [
      "PROMPT: Perform a sentiment classification task by analyzing the sentiment of the given text as either positive, negative, or neutral. Ensure that your analysis is clear, focused, and accurate.\n"
     ]
    }
   ],
   "source": [
    "print(\"PROMPT:\", final_prompt)"
   ]
  },
  {
   "cell_type": "code",
   "execution_count": 13,
   "id": "51069d78-868f-42d2-92b5-0f8d8a405439",
   "metadata": {},
   "outputs": [
    {
     "name": "stdout",
     "output_type": "stream",
     "text": [
      "INITIAL METRIC: 0.375\n"
     ]
    }
   ],
   "source": [
    "print(\"INITIAL METRIC:\", tuner.init_metric)"
   ]
  },
  {
   "cell_type": "code",
   "execution_count": 14,
   "id": "43c2bcbd-9fab-4ac6-9c2b-32b826a97bcf",
   "metadata": {},
   "outputs": [
    {
     "name": "stdout",
     "output_type": "stream",
     "text": [
      "FINAL METRIC: 0.9466666666666667\n"
     ]
    }
   ],
   "source": [
    "print(\"FINAL METRIC:\", tuner.final_metric)"
   ]
  }
 ],
 "metadata": {
  "kernelspec": {
   "display_name": "coolprompt-env",
   "language": "python",
   "name": "coolprompt-env"
  },
  "language_info": {
   "codemirror_mode": {
    "name": "ipython",
    "version": 3
   },
   "file_extension": ".py",
   "mimetype": "text/x-python",
   "name": "python",
   "nbconvert_exporter": "python",
   "pygments_lexer": "ipython3",
   "version": "3.11.11"
  }
 },
 "nbformat": 4,
 "nbformat_minor": 5
}
