{
 "cells": [
  {
   "cell_type": "code",
   "execution_count": null,
   "id": "685e808f",
   "metadata": {},
   "outputs": [],
   "source": [
    "def print_results(tuner):\n",
    "    print(\"Final prompt:\", tuner.final_prompt)\n",
    "    print(\"Start prompt metric: \", tuner.init_metric)\n",
    "    print(\"Final prompt metric: \", tuner.final_metric)"
   ]
  },
  {
   "cell_type": "markdown",
   "id": "02bb6438",
   "metadata": {},
   "source": [
    "# PromptTuner\n",
    "\n",
    "Точка входа - ассистент\n",
    "\n",
    "Он позволяет оптимизировать имеющийся промпт под определенную задачу\n",
    "\n",
    "Задачу можно задавать датасетом, подаваемым в функцию run, но некоторые оптимизаторы могут работать и без него"
   ]
  },
  {
   "cell_type": "code",
   "execution_count": null,
   "id": "395e5daa",
   "metadata": {},
   "outputs": [],
   "source": [
    "from coolprompt.assistant import PromptTuner\n",
    "tuner = PromptTuner()"
   ]
  },
  {
   "cell_type": "code",
   "execution_count": null,
   "id": "2ceab957",
   "metadata": {},
   "outputs": [],
   "source": [
    "# Запуск без датасета\n",
    "tuner.run(start_prompt=\"Write an essay about autumn\")"
   ]
  },
  {
   "cell_type": "markdown",
   "id": "32a1649c",
   "metadata": {},
   "source": [
    "Ассистент в режиме оптимизации под датасет может решать одну из двух задач: классификацию или генерацию"
   ]
  },
  {
   "cell_type": "code",
   "execution_count": null,
   "id": "c2095694",
   "metadata": {},
   "outputs": [],
   "source": [
    "from datasets import load_dataset\n",
    "\n",
    "# Классификация\n",
    "\n",
    "sst2 = load_dataset(\"stanfordnlp/sst2\")\n",
    "class_dataset = sst2['train']['sentence'][:100]\n",
    "class_targets = sst2['train']['label'][:100]\n",
    "\n",
    "tuner.run(\n",
    "    start_prompt=\"Perform Sentiment Classification task.\",\n",
    "    task=\"classification\",\n",
    "    dataset=class_dataset,\n",
    "    target=class_targets,\n",
    "    metric=\"accuracy\"\n",
    ")\n",
    "\n",
    "print_results(tuner)"
   ]
  },
  {
   "cell_type": "code",
   "execution_count": null,
   "id": "6790e788",
   "metadata": {},
   "outputs": [],
   "source": [
    "# Генерация\n",
    "\n",
    "samsum = load_dataset(\"knkarthick/samsum\")\n",
    "gen_dataset = samsum['train']['dialogue'][:100]\n",
    "gen_targets = samsum['train']['summary'][:100]\n",
    "\n",
    "tuner.run(\n",
    "    start_prompt=\"Summarize the text\",\n",
    "    task=\"generation\",\n",
    "    dataset=gen_dataset,\n",
    "    target=gen_targets,\n",
    "    metric=\"meteor\"\n",
    ")\n",
    "\n",
    "print_results(tuner)"
   ]
  },
  {
   "cell_type": "markdown",
   "id": "ff4f32b7",
   "metadata": {},
   "source": [
    "## Language model\n",
    "\n",
    "При инициализации юзер может подать уже имеющуюся LLM-ку, \n",
    "\n",
    "или инициализировать асситента без аргументов, и будет использована дефолтная модель"
   ]
  },
  {
   "cell_type": "code",
   "execution_count": null,
   "id": "fca6b084",
   "metadata": {},
   "outputs": [],
   "source": [
    "from langchain_community.llms import VLLM\n",
    "\n",
    "my_model = VLLM(\n",
    "    model=\"deepseek-ai/DeepSeek-R1-Distill-Qwen-1.5B\",\n",
    "    trust_remote_code=True,\n",
    "    dtype='float16',\n",
    ")\n",
    "\n",
    "tuner_with_custom_llm = PromptTuner(model=my_model)\n",
    "tuner_with_custom_llm.run(start_prompt=\"Write an essay about autumn\")"
   ]
  },
  {
   "cell_type": "markdown",
   "id": "437bf28b",
   "metadata": {},
   "source": [
    "Также можно изменять конфиг дефолтной модели"
   ]
  },
  {
   "cell_type": "code",
   "execution_count": null,
   "id": "bea865a3",
   "metadata": {},
   "outputs": [],
   "source": [
    "from coolprompt.language_model.llm import DefaultLLM\n",
    "\n",
    "changed_model = DefaultLLM.init(langchain_config={\n",
    "    'max_new_tokens': 1000,\n",
    "    \"temperature\": 0.0,\n",
    "})\n",
    "\n",
    "tuner_with_changed_llm = PromptTuner(model=changed_model)\n",
    "tuner_with_changed_llm.run(start_prompt=\"Write an essay about autumn\")"
   ]
  },
  {
   "cell_type": "markdown",
   "id": "611f8079",
   "metadata": {},
   "source": [
    "## Оптимизатор\n",
    "\n",
    "Фреймворк поддерживает несколько различных алгоритмов оптимизации промптов\n",
    "\n",
    "- HyPE\n",
    "- DistillPrompt\n",
    "- ReflectivePrompt\n",
    "\n",
    "Выбор алгоритма производится в параметрах метода run"
   ]
  },
  {
   "cell_type": "markdown",
   "id": "456a7661",
   "metadata": {},
   "source": [
    "### HyPE\n",
    "Мы уже видели его работу до этого - используя заранее заданную системную инструкцию просит модель оптимизировать поданный промпт. оптимизация происходит в одну итерацию"
   ]
  },
  {
   "cell_type": "code",
   "execution_count": null,
   "id": "12428e85",
   "metadata": {},
   "outputs": [],
   "source": [
    "tuner.run(\n",
    "    start_prompt=\"Perform Sentiment Classification task.\",\n",
    "    task=\"classification\",\n",
    "    method=\"hype\",\n",
    "    dataset=class_dataset,\n",
    "    target=class_targets,\n",
    "    metric=\"accuracy\"\n",
    ")\n",
    "\n",
    "print_results(tuner)"
   ]
  },
  {
   "cell_type": "markdown",
   "id": "d4a7468c",
   "metadata": {},
   "source": [
    "### DistillPrompt\n",
    "\n",
    "Метод автопромптинга, основанный на последовательной дистилляции и агрегации знаний LLM"
   ]
  },
  {
   "cell_type": "code",
   "execution_count": null,
   "id": "12d1a010",
   "metadata": {},
   "outputs": [],
   "source": [
    "tuner.run(\n",
    "    start_prompt=\"Perform Sentiment Classification task.\",\n",
    "    task='classification',\n",
    "    dataset=class_dataset,\n",
    "    target=class_targets,\n",
    "    method='distill',\n",
    "    use_cache=True,\n",
    "    num_epochs=1\n",
    ")\n",
    "\n",
    "print_results(tuner)"
   ]
  },
  {
   "cell_type": "markdown",
   "id": "77dad7ef",
   "metadata": {},
   "source": [
    "### ReflectivePrompt\n",
    "\n",
    "Метод автопромптинга на основе эволюционных алгоритмов, использующий подход рефлексивной эволюции для более точного и расширенного поиска оптимальных промптов"
   ]
  },
  {
   "cell_type": "code",
   "execution_count": null,
   "id": "58afa175",
   "metadata": {},
   "outputs": [],
   "source": [
    "tuner.run(\n",
    "    start_prompt=\"Perform Sentiment Classification task.\",\n",
    "    task='classification',\n",
    "    dataset=class_dataset,\n",
    "    target=class_targets,\n",
    "    method='reflective',\n",
    "    problem_description='sentiment classification',\n",
    "    use_cache=False,\n",
    "    population_size=4,\n",
    "    num_epochs=3\n",
    ")\n",
    "\n",
    "print_results(tuner)"
   ]
  },
  {
   "cell_type": "markdown",
   "id": "a3d8d567",
   "metadata": {},
   "source": [
    "## Evaluator\n",
    "\n",
    "Если вы укажете датасет для оптимизации, фреймворк позволяет измерять метрики, получаемые при использовании определенного промпта\n",
    "\n",
    "На данный момент поддерживаются\n",
    "- accuracy и f1 для классификации\n",
    "- meteor, rouge и bleu для генерации\n",
    "\n",
    "Метрики находятся в публичных полях ассистента"
   ]
  },
  {
   "cell_type": "code",
   "execution_count": null,
   "id": "ef8a450a",
   "metadata": {},
   "outputs": [],
   "source": [
    "print(\"Start prompt metric: \", tuner.init_metric)\n",
    "print(\"Final prompt metric: \", tuner.final_metric)"
   ]
  }
 ],
 "metadata": {
  "kernelspec": {
   "display_name": "name",
   "language": "python",
   "name": "python3"
  },
  "language_info": {
   "name": "python",
   "version": "3.11.13"
  }
 },
 "nbformat": 4,
 "nbformat_minor": 5
}
