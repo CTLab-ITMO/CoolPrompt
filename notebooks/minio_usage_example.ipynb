{
 "cells": [
  {
   "cell_type": "code",
   "execution_count": 1,
   "metadata": {},
   "outputs": [],
   "source": [
    "import minio\n",
    "import urllib3"
   ]
  },
  {
   "cell_type": "code",
   "execution_count": 2,
   "metadata": {},
   "outputs": [],
   "source": [
    "# disabling warnings about insecure certificates\n",
    "# certificates are expired, so there's nothing we can do\n",
    "\n",
    "urllib3.disable_warnings()"
   ]
  },
  {
   "cell_type": "code",
   "execution_count": null,
   "metadata": {},
   "outputs": [],
   "source": [
    "# creating client \n",
    "\n",
    "client = minio.Minio(\n",
    "    \"<IP_ADDRESS_OF_SERVER:API_PORT>\",\n",
    "    access_key=\"<LOGIN>\",\n",
    "    secret_key=\"<PASSWORD>\",\n",
    "    cert_check=False # in order not to fail with expired certificate\n",
    ")"
   ]
  },
  {
   "cell_type": "code",
   "execution_count": null,
   "metadata": {},
   "outputs": [],
   "source": [
    "source_file = '<PATH>' # path to the file you want to upload"
   ]
  },
  {
   "cell_type": "code",
   "execution_count": null,
   "metadata": {},
   "outputs": [],
   "source": [
    "bucket_name = 'autoprompting' # our bucket name\n",
    "destination_file = 'data/data.file (change it)' # destination of our file inside of our bucket"
   ]
  },
  {
   "cell_type": "code",
   "execution_count": 6,
   "metadata": {},
   "outputs": [],
   "source": [
    "# checking if this bucket exists on the server \n",
    "# in our case I've already created it, so it should be existing\n",
    "\n",
    "found = client.bucket_exists(bucket_name) \n",
    "\n",
    "if not found:\n",
    "    raise ValueError(\"Nonexistent bucket name. Check it\")\n",
    "\n",
    "    # or you can create the bucket you want:\n",
    "    # client.make_bucket(bucket_name)\n",
    "    # print(f\"Created bucket {bucket_name}\")"
   ]
  },
  {
   "cell_type": "code",
   "execution_count": 7,
   "metadata": {},
   "outputs": [
    {
     "data": {
      "text/plain": [
       "<minio.helpers.ObjectWriteResult at 0x7f36dc176dc0>"
      ]
     },
     "execution_count": 7,
     "metadata": {},
     "output_type": "execute_result"
    }
   ],
   "source": [
    "# loading file to the server\n",
    "# it may take some time, be patient\n",
    "\n",
    "client.fput_object(\n",
    "    bucket_name, destination_file, source_file\n",
    ")"
   ]
  },
  {
   "cell_type": "code",
   "execution_count": null,
   "metadata": {},
   "outputs": [
    {
     "data": {
      "text/plain": [
       "<minio.datatypes.Object at 0x7f36dc16eee0>"
      ]
     },
     "execution_count": 8,
     "metadata": {},
     "output_type": "execute_result"
    }
   ],
   "source": [
    "# you can also download the file you want\n",
    "\n",
    "download_path = '<PATH_TO_SAVE>' # where to save it\n",
    "object_key = 'data/data.file (change it)' # path to the file inside the bucket\n",
    "\n",
    "client.fget_object(\n",
    "    bucket_name,\n",
    "    object_key,\n",
    "    download_path\n",
    ")"
   ]
  },
  {
   "cell_type": "code",
   "execution_count": null,
   "metadata": {},
   "outputs": [],
   "source": []
  }
 ],
 "metadata": {
  "kernelspec": {
   "display_name": "Python 3",
   "language": "python",
   "name": "python3"
  },
  "language_info": {
   "codemirror_mode": {
    "name": "ipython",
    "version": 3
   },
   "file_extension": ".py",
   "mimetype": "text/x-python",
   "name": "python",
   "nbconvert_exporter": "python",
   "pygments_lexer": "ipython3",
   "version": "3.8.10"
  }
 },
 "nbformat": 4,
 "nbformat_minor": 2
}
